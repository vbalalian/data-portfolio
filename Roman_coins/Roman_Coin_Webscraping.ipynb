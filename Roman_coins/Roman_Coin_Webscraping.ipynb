{
 "cells": [
  {
   "attachments": {},
   "cell_type": "markdown",
   "metadata": {},
   "source": [
    "# Building a dataset of Ancient Roman coins by ruler, using webscraping\n",
    "wildwinds.com contains an html-based list of Ancient Roman coins from the era of the Roman Empire, contained on separate pages for each emperor/honoree, with inconsistently formatted descriptions and data"
   ]
  },
  {
   "attachments": {},
   "cell_type": "markdown",
   "metadata": {},
   "source": [
    "### Import webscraping tools: requests, BeautifulSoup, and pandas"
   ]
  },
  {
   "cell_type": "code",
   "execution_count": 44,
   "metadata": {},
   "outputs": [],
   "source": [
    "import requests\n",
    "from bs4 import BeautifulSoup\n",
    "import pandas as pd"
   ]
  },
  {
   "attachments": {},
   "cell_type": "markdown",
   "metadata": {},
   "source": [
    "### Grab list of links for the landing pages of the various emperors/rulers/honorees from https://www.wildwinds.com/coins/ric/i.html"
   ]
  },
  {
   "cell_type": "code",
   "execution_count": 45,
   "metadata": {},
   "outputs": [],
   "source": [
    "with requests.get('https://www.wildwinds.com/coins/ric/i.html') as raw:\n",
    "    soup = BeautifulSoup(raw.content, 'lxml')"
   ]
  },
  {
   "attachments": {},
   "cell_type": "markdown",
   "metadata": {},
   "source": [
    "### Parse html data for a clean list of ruler names"
   ]
  },
  {
   "cell_type": "code",
   "execution_count": 46,
   "metadata": {},
   "outputs": [
    {
     "name": "stdout",
     "output_type": "stream",
     "text": [
      "First five: ['Aelia Ariadne', 'Aelia Flacilla', 'Aelia Verina', 'Aelius', 'Aemilian'] \n",
      "Last five: ['Vitellius', 'Volusian', 'Zeno', 'Zenobia', 'Zenonis'] \n",
      "231 emperors total\n"
     ]
    }
   ],
   "source": [
    "options = soup.find_all('option')\n",
    "emperors_raw = [i.contents for i in options if i.attrs['value'] != ''][:-6]\n",
    "emperors = []\n",
    "for line in emperors_raw:\n",
    "    for text in line:\n",
    "        emperors.append(text.strip())\n",
    "print(f'First five: {emperors[:5]} \\nLast five: {emperors[-5:]} \\n{len(emperors)} emperors total')"
   ]
  },
  {
   "cell_type": "markdown",
   "metadata": {},
   "source": [
    "### Generate list of usable link roots for each Emperor's coin page"
   ]
  },
  {
   "cell_type": "code",
   "execution_count": 47,
   "metadata": {},
   "outputs": [
    {
     "name": "stdout",
     "output_type": "stream",
     "text": [
      "First five: ['https://www.wildwinds.com/coins/ric/aelia_ariadne/', 'https://www.wildwinds.com/coins/ric/aelia_flaccilla/', 'https://www.wildwinds.com/coins/ric/aelia_verina/', 'https://www.wildwinds.com/coins/ric/aelius/', 'https://www.wildwinds.com/coins/ric/aemilian/'] \n",
      "Last five: ['https://www.wildwinds.com/coins/ric/vitellius/', 'https://www.wildwinds.com/coins/ric/volusian/', 'https://www.wildwinds.com/coins/ric/zeno/', 'https://www.wildwinds.com/coins/ric/zenobia/', 'https://www.wildwinds.com/coins/ric/zenonis/'] \n",
      "231 linkroots total\n"
     ]
    }
   ],
   "source": [
    "linkroots = ['https://www.wildwinds.com/coins/ric/' + i.attrs['value'][:-6] for i in options if i.attrs['value'] != ''][:-6]\n",
    "print(f'First five: {linkroots[:5]} \\nLast five: {linkroots[-5:]} \\n{len(linkroots)} linkroots total')"
   ]
  },
  {
   "cell_type": "markdown",
   "metadata": {},
   "source": [
    "### Create a semi-random list of test pages for building an adaptable parser"
   ]
  },
  {
   "cell_type": "code",
   "execution_count": 48,
   "metadata": {},
   "outputs": [
    {
     "name": "stdout",
     "output_type": "stream",
     "text": [
      "https://www.wildwinds.com/coins/ric/aelia_verina/\n",
      "https://www.wildwinds.com/coins/ric/aemilian/\n",
      "https://www.wildwinds.com/coins/ric/agrippina_II/\n",
      "https://www.wildwinds.com/coins/ric/annius_verus/\n",
      "https://www.wildwinds.com/coins/ric/augustus/\n",
      "https://www.wildwinds.com/coins/ric/commodus/\n",
      "https://www.wildwinds.com/coins/ric/galba/\n",
      "https://www.wildwinds.com/coins/ric/laelianus/\n",
      "https://www.wildwinds.com/coins/ric/martinian/\n",
      "https://www.wildwinds.com/coins/ric/tacitus/\n"
     ]
    }
   ],
   "source": [
    "testpages = [2, 4, 8, 12, 21, 42, 81, 118, 142, 196]\n",
    "test_roots = [linkroots[i] for i in testpages]\n",
    "for i in test_roots:\n",
    "    print(i)"
   ]
  },
  {
   "cell_type": "markdown",
   "metadata": {},
   "source": [
    "## pull html from test pages"
   ]
  },
  {
   "cell_type": "code",
   "execution_count": 49,
   "metadata": {},
   "outputs": [],
   "source": [
    "test_pages_raw = [requests.get(linkroots[i] + 'i.html') for i in testpages]"
   ]
  },
  {
   "cell_type": "markdown",
   "metadata": {},
   "source": [
    "## explore test page html"
   ]
  },
  {
   "cell_type": "code",
   "execution_count": 50,
   "metadata": {},
   "outputs": [],
   "source": [
    "test_soups = [BeautifulSoup(test_pages_raw[i].content, 'lxml') for i in range(len(test_pages_raw))]"
   ]
  },
  {
   "cell_type": "code",
   "execution_count": 51,
   "metadata": {},
   "outputs": [
    {
     "name": "stdout",
     "output_type": "stream",
     "text": [
      "Test soup preview: \n",
      "\n",
      "<html>\n",
      "<head>\n",
      "<title>Augustus, Roman Imperial Coins of, at WildWinds.com\n",
      "</title>\n",
      "<meta content=\"width=device-width, initial-scale=1\" name=\"viewport\"/>\n",
      "<base target=\"_parent\"/>\n",
      "</head>\n",
      "<body bgcolor=\"#D7D5D5\">\n",
      "<object data=\"https://www.wildwinds.com/coins/topscript.html\" height=\"160\" width=\"100%\"></object><br/>\n",
      "<center>\n",
      "<p></p><h2>Browsing Roman Imperial Coins of Augustus</h2>\n",
      "<p><img src=\"toppic.jpg\"/>\n",
      "<br/><font size=\"2\">Octavian: Senator, Consul and Triumvir from 43 BC; de-facto sole ruler from 27 BC; proclaimed Augustus, emperor 12 BC - 14 AD.</font>\n",
      "</p><h3><a href=\"t.html\">Browse the Augustus page with thumbnail images.</a></h3>\n",
      "<table border=\"1\" cellpadding=\"0\" cellspacing=\"1\">\n",
      "<tr><td>Note </td><td colspan=\"3\">This page has later Roman Imperial issues from after Octavian was proclaimed Augustus in 27 BC. Earlier Imperatorial issues are listed on the <a href=\"../../imp/octavian/i.html\">Octavian page</a>, though most Provincial issues are listed here regardless of date.</td><td></td></tr>\n",
      "<tr><td bgcolor=\"#FFD700\">BMCRE 317</td><td>Augustus AR aureus, Emerita mint. 19-18 BC. 7.86 g. CAESAR AVGVSTVS between two laurel trees / OB CIVIS SERVATOS in three lines within an oak wreath. BMCRE 317; Cohen 206; Calico 249; RIC -; Sear -.</td><td><a href=\"BMCRE_317.txt\">Text</a></td><td><a href=\"BMCRE_317.jpg\">Image</a></td></tr>\n",
      "<tr><td bgcolor=\"#C0C0C0\">BMCRE 317<br/>denarius</td><td>Augustus AR denarius from aureus dies, Emerita mint. 19-18 BC. CAESAR AVGVSTVS between two laure\n"
     ]
    }
   ],
   "source": [
    "print(f'Test soup preview: \\n\\n{str(test_soups[4])[:1500]}')"
   ]
  },
  {
   "cell_type": "markdown",
   "metadata": {},
   "source": [
    "### Create function to pull soup title"
   ]
  },
  {
   "cell_type": "code",
   "execution_count": 52,
   "metadata": {},
   "outputs": [],
   "source": [
    "def pull_title(soup):\n",
    "    raw_title = soup.find('title').contents[0]\n",
    "    sep = raw_title.find(',')\n",
    "    return str(raw_title[:sep])"
   ]
  },
  {
   "cell_type": "code",
   "execution_count": 53,
   "metadata": {},
   "outputs": [
    {
     "name": "stdout",
     "output_type": "stream",
     "text": [
      "Out of 10 soups, 0 have missing titles.\n",
      "\n",
      "Aelia Verina\n",
      "Aemilian\n",
      "Agrippina II\n",
      "Annius Verus\n",
      "Augustus\n",
      "Commodus\n",
      "Galba\n",
      "Laelianus\n",
      "Martinian\n",
      "Tacitus\n"
     ]
    }
   ],
   "source": [
    "def pull_title_test(soups=test_soups): \n",
    "    titles = pd.Series([pull_title(i) for i in soups])\n",
    "    print(f'Out of {len(soups)} soups, {titles.isna().sum()} have missing titles.')\n",
    "\n",
    "pull_title_test()\n",
    "print('')\n",
    "for soup in test_soups:\n",
    "    print(pull_title(soup), sep=' ')"
   ]
  },
  {
   "cell_type": "markdown",
   "metadata": {},
   "source": [
    "### Create a similar function to pull subtitles"
   ]
  },
  {
   "cell_type": "code",
   "execution_count": 54,
   "metadata": {},
   "outputs": [],
   "source": [
    "def pull_subtitle(soup):\n",
    "    try:\n",
    "        subtitle = soup.find_all('h3')[0].contents[-1]\n",
    "        if 'Click' in str(subtitle) or 'Browse' in str(subtitle):\n",
    "            try:\n",
    "                subtitle = soup.find('font').contents[0]\n",
    "            except:\n",
    "                return None\n",
    "    except IndexError:\n",
    "        try:\n",
    "            subtitle = soup.find_all('p')[1].contents[-1]\n",
    "            if 'Click' in str(subtitle) or 'Browse' in str(subtitle):\n",
    "                raise IndexError\n",
    "            elif len(subtitle) < 4:\n",
    "                try:\n",
    "                    subtitle = soup.find_all('br')[0].contents[0]\n",
    "                except:\n",
    "                    subtitle = None\n",
    "        except IndexError:\n",
    "            subtitle = None\n",
    "    if '(' in str(subtitle) or '<' in str(subtitle):\n",
    "        return None\n",
    "    return str(subtitle).strip()"
   ]
  },
  {
   "cell_type": "code",
   "execution_count": 55,
   "metadata": {},
   "outputs": [
    {
     "name": "stdout",
     "output_type": "stream",
     "text": [
      "Out of 10 soups, 2 have missing subtitles.\n",
      "\n",
      "Wife of Leo I. Died 484 AD.\n",
      "Aemilian, 253 AD.\n",
      "None\n",
      "Son of Marcus Aurelius. Died 161 AD.\n",
      "Octavian: Senator, Consul and Triumvir from 43 BC; de-facto sole ruler from 27 BC; proclaimed Augustus, emperor 12 BC - 14 AD.\n",
      "Commodus, Caesar 172-179, Augustus 179-192 AD.\n",
      "Galba, AD 68-69.\n",
      "Ulpius Cornelius Laelianus, usurper against Postumus, 269 AD.\n",
      "None\n",
      "Tacitus, 275-276 AD.\n"
     ]
    }
   ],
   "source": [
    "def pull_subtitle_test(soups=test_soups):\n",
    "    subtitles = pd.Series([pull_subtitle(s) for s in soups])\n",
    "    print(f'Out of {len(soups)} soups, {subtitles.isna().sum()} have missing subtitles.')\n",
    "\n",
    "pull_subtitle_test()\n",
    "print('')\n",
    "for soup in test_soups:\n",
    "    print(pull_subtitle(soup))\n",
    "    "
   ]
  },
  {
   "cell_type": "markdown",
   "metadata": {},
   "source": [
    "### Create pull_coins to create a list of html chunks for each coin"
   ]
  },
  {
   "cell_type": "code",
   "execution_count": 56,
   "metadata": {},
   "outputs": [],
   "source": [
    "def pull_coins(soup):\n",
    "    coins = [coin.contents for coin in soup.find_all('tr') if len(coin) >2 and 'bgcolor' in str(coin)]\n",
    "    return coins"
   ]
  },
  {
   "cell_type": "code",
   "execution_count": 57,
   "metadata": {},
   "outputs": [
    {
     "data": {
      "text/plain": [
       "[[<td bgcolor=\"#FFD700\">RIC 1</td>,\n",
       "  <td>Laelianus AV Aureus. Mainz or Trier mint, AD 268. IMP C LAELIANVS P F AVG, laureate &amp; cuirassed bust right / TEMPORVM FELICITAS, female figure reclining left, holding branch in right hand and resting left arm on hare. Cohen 2; Sear 11109.</td>,\n",
       "  <td><a href=\"RIC_0001.txt\">Text</a></td>,\n",
       "  <td><a href=\"RIC_0001.jpg\">Image</a></td>],\n",
       " [<td bgcolor=\"red\">RIC 1 Becker<br/>Hill 234</td>,\n",
       "  <td>Laelianvs. Becker Counterfeit struck, gold-plated aureus (6.12 gm). 19th century. IMP C LAELIANVS P F AVG, laureate and cuirassed bust right / TEMPORVM FELICITAS, female figure reclining left, holding branch in right hand and resting left arm on hare. Hill 234; Steinbüchel 97. Becker counterfeit of RIC 1; Elmer 623; Cohen 2 etc.</td>,\n",
       "  <td><a href=\"RIC_0001-fake.txt\">Text</a></td>,\n",
       "  <td><a href=\"RIC_0001-fake.jpg\">Image</a></td>],\n",
       " [<td bgcolor=\"#B87333\">RIC 7</td>,\n",
       "  <td>Laelianus, AE antoninianus. Cologne mint, AD 269. 22 mm, 3 g. IMP C LAELIANVS PF AVG, radiate, cuirassed bust right. / VICTORIA AVG, Victory walking right, holding wreath and palm branch. RIC 7; Estiot 625; Cunetio 2501; Sear 11111; Cohen 7.</td>,\n",
       "  <td><a href=\"RIC_0007.txt\">Text</a></td>,\n",
       "  <td><a href=\"RIC_0007.jpg\">Image</a></td>]]"
      ]
     },
     "execution_count": 57,
     "metadata": {},
     "output_type": "execute_result"
    }
   ],
   "source": [
    "pull_coins(test_soups[7])[:3]"
   ]
  },
  {
   "cell_type": "markdown",
   "metadata": {},
   "source": [
    "### Create coin_metal() to identify the coinage metal"
   ]
  },
  {
   "cell_type": "code",
   "execution_count": 58,
   "metadata": {},
   "outputs": [],
   "source": [
    "def coin_metal(coin):\n",
    "    metals = {'#B8':'Copper','#b8':'Copper', '#FF':'Gold', '#C0':'Silver', '#B7':'Brass', '#b7':'Brass', 'red':'FAKE'}\n",
    "    try:\n",
    "        bg_color_index = int(str(coin).find('bgcolor=')) + 9\n",
    "        bg_color = str(coin)[bg_color_index:bg_color_index + 3]\n",
    "        metal = metals[bg_color]\n",
    "    except:\n",
    "        return None\n",
    "    return metal"
   ]
  },
  {
   "attachments": {},
   "cell_type": "markdown",
   "metadata": {},
   "source": [
    "### Create functions to pull coin era (i.e. 'AD' or 'BC') and <i>a</i> year (not <i>every</i> year) in the coin description \n",
    "(if there is a range of years i.e. 117-124 AD, function pulls the year closest to era i.e. '117-124 AD' returns '124', while 'AD 117-124' returns '117')"
   ]
  },
  {
   "cell_type": "code",
   "execution_count": 59,
   "metadata": {},
   "outputs": [],
   "source": [
    "def coin_era(coin):\n",
    "    coin = str(coin)\n",
    "    if 'AD' in coin:\n",
    "        return 'AD'\n",
    "    elif 'BC' in coin:\n",
    "        return 'BC'\n",
    "    else:\n",
    "        return None\n",
    "\n",
    "def coin_year(coin):\n",
    "    era = coin_era(coin)\n",
    "    coin = str(coin)\n",
    "    year = 0\n",
    "    try:\n",
    "        index = coin.find(coin_era(coin))\n",
    "    except TypeError:\n",
    "        return None\n",
    "    if coin[index - 2].isnumeric():\n",
    "        if coin[index - 3].isnumeric():\n",
    "            if coin[index - 4].isnumeric():\n",
    "                year += int(coin[index-4:index-1])\n",
    "            else:\n",
    "                year += int(coin[index-3:index-1])\n",
    "        else:\n",
    "            year += int(coin[index-2])\n",
    "    elif coin[index + 3].isnumeric():\n",
    "        if coin[index + 4].isnumeric():\n",
    "            if coin[index + 5].isnumeric():\n",
    "                year += int(coin[index+3:index+6])\n",
    "            else:\n",
    "                year += int(coin[index+3:index+4])\n",
    "        else:\n",
    "            year += int(coin[index+3])\n",
    "    if era == 'AD':\n",
    "        return year\n",
    "    elif era == 'BC':\n",
    "        return -year\n",
    "    elif era == None:\n",
    "        return None"
   ]
  },
  {
   "attachments": {},
   "cell_type": "markdown",
   "metadata": {},
   "source": [
    "### Create functions to pull .jpg and .txt links from coins"
   ]
  },
  {
   "cell_type": "code",
   "execution_count": 60,
   "metadata": {},
   "outputs": [],
   "source": [
    "def coin_jpg(coin):\n",
    "    for item in coin:\n",
    "        item = str(item)\n",
    "        if '.jpg' in item:\n",
    "            start, end = item.find('href=')+6, item.find('.jpg')+4\n",
    "            return item[start:end]"
   ]
  },
  {
   "cell_type": "code",
   "execution_count": 61,
   "metadata": {},
   "outputs": [],
   "source": [
    "def coin_txt(coin):\n",
    "    for item in coin:\n",
    "        item = str(item)\n",
    "        if '.txt' in item:\n",
    "            start, end = item.find('href=')+6, item.find('.txt')+4\n",
    "            return item[start:end]"
   ]
  },
  {
   "attachments": {},
   "cell_type": "markdown",
   "metadata": {},
   "source": [
    "### use code from above functions to create a crude function to pull coin_id from links"
   ]
  },
  {
   "cell_type": "code",
   "execution_count": 62,
   "metadata": {},
   "outputs": [],
   "source": [
    "def coin_id(coin):\n",
    "    coin = str(coin)\n",
    "    if '.jpg' in coin:\n",
    "        start, end = coin.rfind('href=')+6, coin.rfind('.jpg')\n",
    "        return coin[start:end]\n",
    "    elif '.txt' in coin:\n",
    "        start, end = coin.rfind('href=')+6, coin.rfind('.txt')\n",
    "        return coin[start:end]\n",
    "    else:\n",
    "        return None"
   ]
  },
  {
   "attachments": {},
   "cell_type": "markdown",
   "metadata": {},
   "source": [
    "### Create function for coin mass in grams"
   ]
  },
  {
   "cell_type": "code",
   "execution_count": 63,
   "metadata": {},
   "outputs": [],
   "source": [
    "def coin_mass(coin):\n",
    "    coin = str(coin)\n",
    "    # might be able to clean this up by creating a list of possible gram abbreviations and looping through it\n",
    "    if 'g.' in coin:\n",
    "        start = coin.find('g.')\n",
    "        if coin[start-1].isnumeric() or coin[start-2].isnumeric():\n",
    "            grams = 'g.'\n",
    "    elif 'g,' in coin:\n",
    "        start = coin.find('g,')\n",
    "        if coin[start-1].isnumeric() or coin[start-2].isnumeric():\n",
    "            grams = 'g,'\n",
    "    elif 'gm.' in coin:\n",
    "        grams = 'gm.'\n",
    "    elif 'gr.' in coin:\n",
    "        grams = 'gr.'\n",
    "    elif 'grs,' in coin:\n",
    "        grams = 'grs,'\n",
    "    elif 'grs.' in coin:\n",
    "        grams = 'grs.'\n",
    "    else:\n",
    "        return None\n",
    "    try:\n",
    "        start = coin.find(grams)\n",
    "        if coin[start-1].isnumeric():\n",
    "            if coin[start-2] == '.':\n",
    "                if coin[start-4].isnumeric():\n",
    "                    return float(coin[start-4:start])\n",
    "                else:\n",
    "                    return float(coin[start-3:start])\n",
    "        elif coin[start-3] == '.':\n",
    "            if coin[start-5].isnumeric():\n",
    "                return float(coin[start-5:start-1])\n",
    "            else:\n",
    "                return float(coin[start-4:start-1])\n",
    "        else:\n",
    "            if coin[start-6].isnumeric():\n",
    "                return float(coin[start-6:start-1])\n",
    "            else:\n",
    "                return float(coin[start-5:start-1])\n",
    "    except:\n",
    "        return None"
   ]
  },
  {
   "attachments": {},
   "cell_type": "markdown",
   "metadata": {},
   "source": [
    "### Create function for coin size in mm"
   ]
  },
  {
   "cell_type": "code",
   "execution_count": 64,
   "metadata": {},
   "outputs": [],
   "source": [
    "def coin_diameter(coin):\n",
    "    coin = str(coin)\n",
    "    if 'mm' in coin:\n",
    "        start = coin.find('mm')\n",
    "        # if there's no space between value and 'mm'\n",
    "        if coin[start-1].isnumeric():\n",
    "            if coin[start-2].isnumeric():\n",
    "                # if value contains a decimal\n",
    "                if coin[start-3] == '.': \n",
    "                    if coin[start-5:start-3].isnumeric():\n",
    "                        return float(coin[start-5:start])\n",
    "                    else:\n",
    "                        return None\n",
    "                else:\n",
    "                    return float(coin[start-2:start])\n",
    "            # if value contains a decimal\n",
    "            elif coin[start-2] == '.':\n",
    "                if coin[start-4:start-2].isnumeric():\n",
    "                    return float(coin[start-4:start])\n",
    "                else:\n",
    "                    return None\n",
    "        # if there is a space between value and 'mm'\n",
    "        elif coin[start-1] == ' ' and coin[start-2].isnumeric():\n",
    "            if coin[start-3].isnumeric():\n",
    "                # if value contains a decimal\n",
    "                if coin[start-4] == '.':\n",
    "                    if coin[start-6:start-4].isnumeric():\n",
    "                        return float(coin[start-6:start-1])\n",
    "                    else:\n",
    "                        return None\n",
    "                else:\n",
    "                    return float(coin[start-3:start-1])\n",
    "            elif coin[start-3] == '.':\n",
    "                if coin[start-5:start-3].isnumeric():\n",
    "                    return float(coin[start-5:start-1])\n",
    "                else:\n",
    "                    return None\n"
   ]
  },
  {
   "attachments": {},
   "cell_type": "markdown",
   "metadata": {},
   "source": [
    "### Check for common inscriptions\n",
    "...such as \"AVG\" (Augustus, title of the emperor), \"IMP\" (Imperator (victorious general), received upon accession), \"CAES\" (Caesar, inherited name of the Julian family (Julius Caesar), used by later emperors to designate heir), \"GERM\" (Germanicus, a title honoring military victories in Germany), \"COS\" or \"CONSVL\" (Consul, a title linked to highest office in Senate, usually held by emperor), \"PO\" (Pontifex Maximus, highest priest, the head of state religion), \"PP\" (Pater Patriae, father of the country), \"PF\" (Pius Felix, reverent or dutiful), \"SC\" (Senatus Consultus), \"TPP\" (Tribunica Potestate, tribune of the people, each renewal indicated by numerals), \"CENS\" (Censor, a public office overseeing taxes, morality, the census and membership in various orders), \"BRIT\" (Britannicus)."
   ]
  },
  {
   "cell_type": "code",
   "execution_count": 74,
   "metadata": {},
   "outputs": [],
   "source": [
    "def coin_inscriptions(coin):\n",
    "    coin = str(coin)\n",
    "    inscriptions_list = ['AVG', 'IMP', 'CAES', 'GERM', 'COS', 'CONSVL', 'PP', 'PO', 'PF', \\\n",
    "                         'SC', 'CENS', 'TPP', 'TR', 'RESTITVT', 'BRIT', 'AVGVSTVS', 'CAESAR', \n",
    "                         'C', 'TRIB POT', 'PON MAX', 'PM']\n",
    "    coin_inscriptions = []\n",
    "    for i in inscriptions_list:\n",
    "        if str(' ' + i + ' ') in coin:\n",
    "            coin_inscriptions.append(i)\n",
    "    if len(coin_inscriptions) > 0:\n",
    "        return coin_inscriptions\n",
    "    else:\n",
    "        return None\n",
    "\n",
    "def unique_inscriptions(inscriptions):\n",
    "    u_inscriptions = []\n",
    "    for i in inscriptions:\n",
    "        try:\n",
    "            for abb in i:\n",
    "                if abb not in u_inscriptions:\n",
    "                    u_inscriptions.append(abb)\n",
    "        except TypeError:\n",
    "            continue\n",
    "    return u_inscriptions"
   ]
  },
  {
   "attachments": {},
   "cell_type": "markdown",
   "metadata": {},
   "source": [
    "### Create coin_tests() for a basic summary of function success"
   ]
  },
  {
   "cell_type": "code",
   "execution_count": 66,
   "metadata": {},
   "outputs": [
    {
     "name": "stdout",
     "output_type": "stream",
     "text": [
      "Out of 2577 coins in 10 soups, there are:\n",
      "  6 missing metal values\n",
      "    5 unique metal values: ['Gold' 'Copper' 'Silver' 'Brass' None 'FAKE']\n",
      "  1045 missing year values\n",
      "    108 unique year values\n",
      "      Mean: 107.7219321148825, Median: 177.0, Min: -225.0, Max: 570.0\n",
      "  285 missing id values\n",
      "    2147 unique id values\n",
      "  1948 missing mass values\n",
      "    520 unique mass values\n",
      "      Mean: 11.64412559618442, Median: 8.6, Min: 0.655, Max: 71.7\n",
      "  2417 missing diameter values\n",
      "    46 unique diameter values\n",
      "      Mean: 23.660187500000003, Median: 22.0, Min: 14.0, Max: 38.7\n",
      "  1307 missing inscriptions values\n",
      "    19 unique inscriptions\n",
      "      ['AVG', 'IMP', 'TR', 'TR P', 'C', 'CAES', 'PF', 'PM', 'SC', 'PP', 'GERM', 'AVGVSTVS', 'CAESAR', 'COS', 'PO', 'PON MAX', 'TRIB POT', 'BRIT', 'RESTITVT']\n"
     ]
    }
   ],
   "source": [
    "def coin_tests(soups=test_soups):\n",
    "    test_coins = []\n",
    "    for s in soups:\n",
    "        for c in pull_coins(s):\n",
    "            test_coins.append(c)\n",
    "    print(f'Out of {len(test_coins)} coins in {len(soups)} soups, there are:')\n",
    "    metals = pd.Series([coin_metal(coin) for coin in test_coins])\n",
    "    print(f'  {metals.isna().sum()} missing metal values')\n",
    "    print(f'    {metals.nunique()} unique metal values: {metals.unique()}')\n",
    "    years = pd.Series([coin_year(coin) for coin in test_coins])\n",
    "    print(f'  {years.isna().sum()} missing year values')\n",
    "    print(f'    {years.nunique()} unique year values')\n",
    "    print(f'      Mean: {years.mean()}, Median: {years.median()}, Min: {years.min()}, Max: {years.max()}')\n",
    "    ids = pd.Series([coin_id(coin) for coin in test_coins])\n",
    "    print(f'  {ids.isna().sum()} missing id values')\n",
    "    print(f'    {ids.nunique()} unique id values')\n",
    "    mass = pd.Series([coin_mass(coin) for coin in test_coins])\n",
    "    print(f'  {mass.isna().sum()} missing mass values')\n",
    "    print(f'    {mass.nunique()} unique mass values')\n",
    "    print(f'      Mean: {mass.mean()}, Median: {mass.median()}, Min: {mass.min()}, Max: {mass.max()}')\n",
    "    diameter = pd.Series([coin_diameter(coin) for coin in test_coins])\n",
    "    print(f'  {diameter.isna().sum()} missing diameter values')\n",
    "    print(f'    {diameter.nunique()} unique diameter values')\n",
    "    print(f'      Mean: {diameter.mean()}, Median: {diameter.median()}, Min: {diameter.min()}, Max: {diameter.max()}')\n",
    "    inscriptions = [coin_inscriptions(c) for c in test_coins]\n",
    "    print(f'  {pd.Series(inscriptions).isna().sum()} missing inscriptions values')\n",
    "    print(f'    {len(unique_inscriptions(inscriptions))} unique inscriptions')\n",
    "    print(f'      {unique_inscriptions(inscriptions)}')\n",
    "\n",
    "coin_tests()"
   ]
  },
  {
   "attachments": {},
   "cell_type": "markdown",
   "metadata": {},
   "source": [
    "## Combine individual coin parsing functions into one that returns a Dataframe\n",
    "i.e. coin_df(soup)"
   ]
  },
  {
   "cell_type": "code",
   "execution_count": 67,
   "metadata": {},
   "outputs": [],
   "source": [
    "def coin_df(soup):\n",
    "    title = pull_title(soup)\n",
    "    id, metal, mass, diameter, era, year, inscriptions, jpg, txt = [], [], [], [], [], [], [], [], []\n",
    "    for coin in pull_coins(soup):\n",
    "        id.append(coin_id(coin))\n",
    "        metal.append(coin_metal(coin))\n",
    "        mass.append(coin_mass(coin))\n",
    "        diameter.append(coin_diameter(coin))\n",
    "        era.append(coin_era(coin))\n",
    "        year.append(coin_year(coin))\n",
    "        inscriptions.append(coin_inscriptions(coin))\n",
    "        jpg.append(coin_jpg(coin))\n",
    "        txt.append(coin_txt(coin))\n",
    "    return pd.DataFrame({'title':title, 'id':id, 'metal':metal, 'mass':mass, 'diameter':diameter, \\\n",
    "                         'era':era, 'year':year, 'inscriptions':inscriptions, 'jpg':jpg, 'txt':txt})"
   ]
  },
  {
   "cell_type": "code",
   "execution_count": 68,
   "metadata": {},
   "outputs": [
    {
     "data": {
      "text/html": [
       "<div>\n",
       "<style scoped>\n",
       "    .dataframe tbody tr th:only-of-type {\n",
       "        vertical-align: middle;\n",
       "    }\n",
       "\n",
       "    .dataframe tbody tr th {\n",
       "        vertical-align: top;\n",
       "    }\n",
       "\n",
       "    .dataframe thead th {\n",
       "        text-align: right;\n",
       "    }\n",
       "</style>\n",
       "<table border=\"1\" class=\"dataframe\">\n",
       "  <thead>\n",
       "    <tr style=\"text-align: right;\">\n",
       "      <th></th>\n",
       "      <th>title</th>\n",
       "      <th>id</th>\n",
       "      <th>metal</th>\n",
       "      <th>mass</th>\n",
       "      <th>diameter</th>\n",
       "      <th>era</th>\n",
       "      <th>year</th>\n",
       "      <th>inscriptions</th>\n",
       "      <th>jpg</th>\n",
       "      <th>txt</th>\n",
       "    </tr>\n",
       "  </thead>\n",
       "  <tbody>\n",
       "    <tr>\n",
       "      <th>0</th>\n",
       "      <td>Agrippina II</td>\n",
       "      <td>Cohen_01</td>\n",
       "      <td>Brass</td>\n",
       "      <td>NaN</td>\n",
       "      <td>NaN</td>\n",
       "      <td>AD</td>\n",
       "      <td>5.0</td>\n",
       "      <td>[AVG]</td>\n",
       "      <td>Cohen_01.jpg</td>\n",
       "      <td>Cohen_01.txt</td>\n",
       "    </tr>\n",
       "    <tr>\n",
       "      <th>1</th>\n",
       "      <td>Agrippina II</td>\n",
       "      <td>Cohen_01_countermarked</td>\n",
       "      <td>Brass</td>\n",
       "      <td>14.78</td>\n",
       "      <td>28.0</td>\n",
       "      <td>None</td>\n",
       "      <td>NaN</td>\n",
       "      <td>[AVG]</td>\n",
       "      <td>Cohen_01_countermarked.jpg</td>\n",
       "      <td>Cohen_01_countermarked.txt</td>\n",
       "    </tr>\n",
       "    <tr>\n",
       "      <th>2</th>\n",
       "      <td>Agrippina II</td>\n",
       "      <td>RIC_0075</td>\n",
       "      <td>Silver</td>\n",
       "      <td>NaN</td>\n",
       "      <td>NaN</td>\n",
       "      <td>AD</td>\n",
       "      <td>54.0</td>\n",
       "      <td>[CAES, GERM]</td>\n",
       "      <td>RIC_0075.jpg</td>\n",
       "      <td>RIC_0075.txt</td>\n",
       "    </tr>\n",
       "    <tr>\n",
       "      <th>3</th>\n",
       "      <td>Agrippina II</td>\n",
       "      <td>None</td>\n",
       "      <td>Brass</td>\n",
       "      <td>NaN</td>\n",
       "      <td>NaN</td>\n",
       "      <td>None</td>\n",
       "      <td>NaN</td>\n",
       "      <td>[AVG]</td>\n",
       "      <td>None</td>\n",
       "      <td>None</td>\n",
       "    </tr>\n",
       "    <tr>\n",
       "      <th>4</th>\n",
       "      <td>Agrippina II</td>\n",
       "      <td>RIC_0103note</td>\n",
       "      <td>Brass</td>\n",
       "      <td>NaN</td>\n",
       "      <td>NaN</td>\n",
       "      <td>AD</td>\n",
       "      <td>54.0</td>\n",
       "      <td>[AVG]</td>\n",
       "      <td>RIC_0103note.jpg</td>\n",
       "      <td>RIC_0103note.txt</td>\n",
       "    </tr>\n",
       "  </tbody>\n",
       "</table>\n",
       "</div>"
      ],
      "text/plain": [
       "          title                      id   metal   mass  diameter   era  year  \\\n",
       "0  Agrippina II                Cohen_01   Brass    NaN       NaN    AD   5.0   \n",
       "1  Agrippina II  Cohen_01_countermarked   Brass  14.78      28.0  None   NaN   \n",
       "2  Agrippina II                RIC_0075  Silver    NaN       NaN    AD  54.0   \n",
       "3  Agrippina II                    None   Brass    NaN       NaN  None   NaN   \n",
       "4  Agrippina II            RIC_0103note   Brass    NaN       NaN    AD  54.0   \n",
       "\n",
       "   inscriptions                         jpg                         txt  \n",
       "0         [AVG]                Cohen_01.jpg                Cohen_01.txt  \n",
       "1         [AVG]  Cohen_01_countermarked.jpg  Cohen_01_countermarked.txt  \n",
       "2  [CAES, GERM]                RIC_0075.jpg                RIC_0075.txt  \n",
       "3         [AVG]                        None                        None  \n",
       "4         [AVG]            RIC_0103note.jpg            RIC_0103note.txt  "
      ]
     },
     "execution_count": 68,
     "metadata": {},
     "output_type": "execute_result"
    }
   ],
   "source": [
    "coin_df(test_soups[2]).head()"
   ]
  },
  {
   "attachments": {},
   "cell_type": "markdown",
   "metadata": {},
   "source": [
    "## Create a function to combine multiple Dataframes"
   ]
  },
  {
   "cell_type": "code",
   "execution_count": 69,
   "metadata": {},
   "outputs": [],
   "source": [
    "def combine_coin_dfs(soups):\n",
    "    dfs = [coin_df(soup) for soup in soups]\n",
    "    return pd.concat(dfs) "
   ]
  },
  {
   "cell_type": "code",
   "execution_count": 70,
   "metadata": {},
   "outputs": [
    {
     "data": {
      "text/plain": [
       "2577"
      ]
     },
     "execution_count": 70,
     "metadata": {},
     "output_type": "execute_result"
    }
   ],
   "source": [
    "len(combine_coin_dfs(test_soups))"
   ]
  },
  {
   "attachments": {},
   "cell_type": "markdown",
   "metadata": {},
   "source": [
    "# Switch to working with full data"
   ]
  },
  {
   "attachments": {},
   "cell_type": "markdown",
   "metadata": {},
   "source": [
    "## Pull html from all source pages\n",
    "(pulling from over 200 pages, which can take a few minutes)"
   ]
  },
  {
   "cell_type": "code",
   "execution_count": 71,
   "metadata": {},
   "outputs": [],
   "source": [
    "pages_raw = [requests.get(linkroots[i] + 'i.html') for i in range(len(linkroots))]"
   ]
  },
  {
   "cell_type": "code",
   "execution_count": 72,
   "metadata": {},
   "outputs": [],
   "source": [
    "all_soups = [BeautifulSoup(pages_raw[i].content, 'lxml') for i in range(len(pages_raw))]"
   ]
  },
  {
   "attachments": {},
   "cell_type": "markdown",
   "metadata": {},
   "source": [
    "#### Run tests"
   ]
  },
  {
   "cell_type": "code",
   "execution_count": 75,
   "metadata": {},
   "outputs": [
    {
     "name": "stdout",
     "output_type": "stream",
     "text": [
      "Out of 231 soups, 0 have missing titles.\n",
      "Out of 231 soups, 79 have missing subtitles.\n",
      "Out of 40728 coins in 231 soups, there are:\n",
      "  820 missing metal values\n",
      "    5 unique metal values: ['Gold' 'Copper' 'Silver' 'Brass' None 'FAKE']\n",
      "  16417 missing year values\n",
      "    504 unique year values\n",
      "      Mean: 204.09415490930033, Median: 217.0, Min: -853.0, Max: 956.0\n",
      "  2385 missing id values\n",
      "    33274 unique id values\n",
      "  31689 missing mass values\n",
      "    2471 unique mass values\n",
      "      Mean: 10.016411439318532, Median: 7.52, Min: 0.32, Max: 516.0\n",
      "  35370 missing diameter values\n",
      "    479 unique diameter values\n",
      "      Mean: 23.539531541620015, Median: 23.0, Min: 0.0, Max: 98.0\n",
      "  23016 missing inscriptions values\n",
      "    20 unique inscriptions\n",
      "      ['AVG', 'COS', 'TR', 'CAESAR', 'TRIB POT', 'C', 'IMP', 'CAES', 'PF', 'PM', 'SC', 'PP', 'GERM', 'AVGVSTVS', 'PO', 'PON MAX', 'RESTITVT', 'BRIT', 'CONSVL', 'CENS']\n"
     ]
    }
   ],
   "source": [
    "pull_title_test(all_soups)\n",
    "pull_subtitle_test(all_soups)\n",
    "coin_tests(all_soups)"
   ]
  },
  {
   "attachments": {},
   "cell_type": "markdown",
   "metadata": {},
   "source": [
    "## Combine it all into a single Dataframe"
   ]
  },
  {
   "cell_type": "code",
   "execution_count": 76,
   "metadata": {},
   "outputs": [],
   "source": [
    "roman_coins = combine_coin_dfs(all_soups)"
   ]
  },
  {
   "cell_type": "code",
   "execution_count": 78,
   "metadata": {},
   "outputs": [],
   "source": [
    "roman_coins.reset_index()\n",
    "roman_coins.index += 1"
   ]
  },
  {
   "attachments": {},
   "cell_type": "markdown",
   "metadata": {},
   "source": [
    "### Check data quality"
   ]
  },
  {
   "cell_type": "code",
   "execution_count": 79,
   "metadata": {},
   "outputs": [
    {
     "data": {
      "text/html": [
       "<div>\n",
       "<style scoped>\n",
       "    .dataframe tbody tr th:only-of-type {\n",
       "        vertical-align: middle;\n",
       "    }\n",
       "\n",
       "    .dataframe tbody tr th {\n",
       "        vertical-align: top;\n",
       "    }\n",
       "\n",
       "    .dataframe thead th {\n",
       "        text-align: right;\n",
       "    }\n",
       "</style>\n",
       "<table border=\"1\" class=\"dataframe\">\n",
       "  <thead>\n",
       "    <tr style=\"text-align: right;\">\n",
       "      <th></th>\n",
       "      <th>title</th>\n",
       "      <th>id</th>\n",
       "      <th>metal</th>\n",
       "      <th>mass</th>\n",
       "      <th>diameter</th>\n",
       "      <th>era</th>\n",
       "      <th>year</th>\n",
       "      <th>inscriptions</th>\n",
       "      <th>jpg</th>\n",
       "      <th>txt</th>\n",
       "    </tr>\n",
       "  </thead>\n",
       "  <tbody>\n",
       "    <tr>\n",
       "      <th>1</th>\n",
       "      <td>Aelia Ariadne</td>\n",
       "      <td>RIC_0933a</td>\n",
       "      <td>Gold</td>\n",
       "      <td>1.46</td>\n",
       "      <td>14.0</td>\n",
       "      <td>AD</td>\n",
       "      <td>491</td>\n",
       "      <td>None</td>\n",
       "      <td>RIC_0933a.jpg</td>\n",
       "      <td>RIC_0933a.txt</td>\n",
       "    </tr>\n",
       "    <tr>\n",
       "      <th>2</th>\n",
       "      <td>Aelia Ariadne</td>\n",
       "      <td>RIC_933v</td>\n",
       "      <td>Gold</td>\n",
       "      <td>1.47</td>\n",
       "      <td>15.0</td>\n",
       "      <td>AD</td>\n",
       "      <td>491</td>\n",
       "      <td>None</td>\n",
       "      <td>RIC_933v.jpg</td>\n",
       "      <td>RIC_933v.txt</td>\n",
       "    </tr>\n",
       "    <tr>\n",
       "      <th>3</th>\n",
       "      <td>Aelia Ariadne</td>\n",
       "      <td>RIC_0933var2</td>\n",
       "      <td>Gold</td>\n",
       "      <td>4.47</td>\n",
       "      <td>NaN</td>\n",
       "      <td>AD</td>\n",
       "      <td>474</td>\n",
       "      <td>None</td>\n",
       "      <td>RIC_0933var2.jpg</td>\n",
       "      <td>RIC_0933var2.txt</td>\n",
       "    </tr>\n",
       "    <tr>\n",
       "      <th>4</th>\n",
       "      <td>Aelia Ariadne</td>\n",
       "      <td>RIC_0938</td>\n",
       "      <td>Gold</td>\n",
       "      <td>1.47</td>\n",
       "      <td>NaN</td>\n",
       "      <td>AD</td>\n",
       "      <td>474</td>\n",
       "      <td>None</td>\n",
       "      <td>RIC_0938.jpg</td>\n",
       "      <td>RIC_0938.txt</td>\n",
       "    </tr>\n",
       "    <tr>\n",
       "      <th>1</th>\n",
       "      <td>Aelia Flaccilla</td>\n",
       "      <td>_alexandria_RIC_017</td>\n",
       "      <td>Copper</td>\n",
       "      <td>None</td>\n",
       "      <td>NaN</td>\n",
       "      <td>None</td>\n",
       "      <td>NaN</td>\n",
       "      <td>None</td>\n",
       "      <td>_alexandria_RIC_017.jpg</td>\n",
       "      <td>_alexandria_RIC_017.txt</td>\n",
       "    </tr>\n",
       "    <tr>\n",
       "      <th>2</th>\n",
       "      <td>Aelia Flaccilla</td>\n",
       "      <td>_antioch_RIC_054</td>\n",
       "      <td>Copper</td>\n",
       "      <td>None</td>\n",
       "      <td>NaN</td>\n",
       "      <td>None</td>\n",
       "      <td>NaN</td>\n",
       "      <td>None</td>\n",
       "      <td>_antioch_RIC_054.jpg</td>\n",
       "      <td>_antioch_RIC_054.txt</td>\n",
       "    </tr>\n",
       "    <tr>\n",
       "      <th>3</th>\n",
       "      <td>Aelia Flaccilla</td>\n",
       "      <td>_antioch_RIC_061</td>\n",
       "      <td>Copper</td>\n",
       "      <td>None</td>\n",
       "      <td>NaN</td>\n",
       "      <td>None</td>\n",
       "      <td>NaN</td>\n",
       "      <td>None</td>\n",
       "      <td>_antioch_RIC_061.jpg</td>\n",
       "      <td>_antioch_RIC_061.txt</td>\n",
       "    </tr>\n",
       "    <tr>\n",
       "      <th>4</th>\n",
       "      <td>Aelia Flaccilla</td>\n",
       "      <td>_antioch_RIC_061_G</td>\n",
       "      <td>Copper</td>\n",
       "      <td>None</td>\n",
       "      <td>NaN</td>\n",
       "      <td>None</td>\n",
       "      <td>NaN</td>\n",
       "      <td>None</td>\n",
       "      <td>_antioch_RIC_061_G.jpg</td>\n",
       "      <td>_antioch_RIC_061_G.txt</td>\n",
       "    </tr>\n",
       "    <tr>\n",
       "      <th>5</th>\n",
       "      <td>Aelia Flaccilla</td>\n",
       "      <td>_antioch_RIC_062,D</td>\n",
       "      <td>Copper</td>\n",
       "      <td>None</td>\n",
       "      <td>NaN</td>\n",
       "      <td>None</td>\n",
       "      <td>NaN</td>\n",
       "      <td>None</td>\n",
       "      <td>_antioch_RIC_062,D.jpg</td>\n",
       "      <td>_antioch_RIC_062,D.txt</td>\n",
       "    </tr>\n",
       "    <tr>\n",
       "      <th>6</th>\n",
       "      <td>Aelia Flaccilla</td>\n",
       "      <td>_antioch_RIC_062</td>\n",
       "      <td>Copper</td>\n",
       "      <td>None</td>\n",
       "      <td>22.0</td>\n",
       "      <td>None</td>\n",
       "      <td>NaN</td>\n",
       "      <td>None</td>\n",
       "      <td>_antioch_RIC_062.jpg</td>\n",
       "      <td>_antioch_RIC_062.txt</td>\n",
       "    </tr>\n",
       "  </tbody>\n",
       "</table>\n",
       "</div>"
      ],
      "text/plain": [
       "             title                   id   metal  mass diameter   era year  \\\n",
       "1    Aelia Ariadne            RIC_0933a    Gold  1.46     14.0    AD  491   \n",
       "2    Aelia Ariadne             RIC_933v    Gold  1.47     15.0    AD  491   \n",
       "3    Aelia Ariadne         RIC_0933var2    Gold  4.47      NaN    AD  474   \n",
       "4    Aelia Ariadne             RIC_0938    Gold  1.47      NaN    AD  474   \n",
       "1  Aelia Flaccilla  _alexandria_RIC_017  Copper  None      NaN  None  NaN   \n",
       "2  Aelia Flaccilla     _antioch_RIC_054  Copper  None      NaN  None  NaN   \n",
       "3  Aelia Flaccilla     _antioch_RIC_061  Copper  None      NaN  None  NaN   \n",
       "4  Aelia Flaccilla   _antioch_RIC_061_G  Copper  None      NaN  None  NaN   \n",
       "5  Aelia Flaccilla   _antioch_RIC_062,D  Copper  None      NaN  None  NaN   \n",
       "6  Aelia Flaccilla     _antioch_RIC_062  Copper  None     22.0  None  NaN   \n",
       "\n",
       "  inscriptions                      jpg                      txt  \n",
       "1         None            RIC_0933a.jpg            RIC_0933a.txt  \n",
       "2         None             RIC_933v.jpg             RIC_933v.txt  \n",
       "3         None         RIC_0933var2.jpg         RIC_0933var2.txt  \n",
       "4         None             RIC_0938.jpg             RIC_0938.txt  \n",
       "1         None  _alexandria_RIC_017.jpg  _alexandria_RIC_017.txt  \n",
       "2         None     _antioch_RIC_054.jpg     _antioch_RIC_054.txt  \n",
       "3         None     _antioch_RIC_061.jpg     _antioch_RIC_061.txt  \n",
       "4         None   _antioch_RIC_061_G.jpg   _antioch_RIC_061_G.txt  \n",
       "5         None   _antioch_RIC_062,D.jpg   _antioch_RIC_062,D.txt  \n",
       "6         None     _antioch_RIC_062.jpg     _antioch_RIC_062.txt  "
      ]
     },
     "execution_count": 79,
     "metadata": {},
     "output_type": "execute_result"
    }
   ],
   "source": [
    "roman_coins.head(10)"
   ]
  },
  {
   "cell_type": "code",
   "execution_count": 80,
   "metadata": {},
   "outputs": [
    {
     "data": {
      "text/html": [
       "<div>\n",
       "<style scoped>\n",
       "    .dataframe tbody tr th:only-of-type {\n",
       "        vertical-align: middle;\n",
       "    }\n",
       "\n",
       "    .dataframe tbody tr th {\n",
       "        vertical-align: top;\n",
       "    }\n",
       "\n",
       "    .dataframe thead th {\n",
       "        text-align: right;\n",
       "    }\n",
       "</style>\n",
       "<table border=\"1\" class=\"dataframe\">\n",
       "  <thead>\n",
       "    <tr style=\"text-align: right;\">\n",
       "      <th></th>\n",
       "      <th>title</th>\n",
       "      <th>id</th>\n",
       "      <th>metal</th>\n",
       "      <th>mass</th>\n",
       "      <th>diameter</th>\n",
       "      <th>era</th>\n",
       "      <th>year</th>\n",
       "      <th>inscriptions</th>\n",
       "      <th>jpg</th>\n",
       "      <th>txt</th>\n",
       "    </tr>\n",
       "  </thead>\n",
       "  <tbody>\n",
       "    <tr>\n",
       "      <th>count</th>\n",
       "      <td>40728</td>\n",
       "      <td>38343</td>\n",
       "      <td>39908</td>\n",
       "      <td>9039.0</td>\n",
       "      <td>5358.0</td>\n",
       "      <td>24311</td>\n",
       "      <td>24311.0</td>\n",
       "      <td>17712</td>\n",
       "      <td>38341</td>\n",
       "      <td>38342</td>\n",
       "    </tr>\n",
       "    <tr>\n",
       "      <th>unique</th>\n",
       "      <td>225</td>\n",
       "      <td>33274</td>\n",
       "      <td>5</td>\n",
       "      <td>2471.0</td>\n",
       "      <td>479.0</td>\n",
       "      <td>2</td>\n",
       "      <td>504.0</td>\n",
       "      <td>438</td>\n",
       "      <td>33174</td>\n",
       "      <td>33170</td>\n",
       "    </tr>\n",
       "    <tr>\n",
       "      <th>top</th>\n",
       "      <td>Caracalla</td>\n",
       "      <td>RIC_0013</td>\n",
       "      <td>Copper</td>\n",
       "      <td>2.9</td>\n",
       "      <td>18.0</td>\n",
       "      <td>AD</td>\n",
       "      <td>193.0</td>\n",
       "      <td>[PF]</td>\n",
       "      <td>RIC_0013.jpg</td>\n",
       "      <td>RIC_0013.txt</td>\n",
       "    </tr>\n",
       "    <tr>\n",
       "      <th>freq</th>\n",
       "      <td>2411</td>\n",
       "      <td>23</td>\n",
       "      <td>28786</td>\n",
       "      <td>39.0</td>\n",
       "      <td>357.0</td>\n",
       "      <td>23774</td>\n",
       "      <td>994.0</td>\n",
       "      <td>2203</td>\n",
       "      <td>24</td>\n",
       "      <td>24</td>\n",
       "    </tr>\n",
       "  </tbody>\n",
       "</table>\n",
       "</div>"
      ],
      "text/plain": [
       "            title        id   metal    mass  diameter    era     year  \\\n",
       "count       40728     38343   39908  9039.0    5358.0  24311  24311.0   \n",
       "unique        225     33274       5  2471.0     479.0      2    504.0   \n",
       "top     Caracalla  RIC_0013  Copper     2.9      18.0     AD    193.0   \n",
       "freq         2411        23   28786    39.0     357.0  23774    994.0   \n",
       "\n",
       "       inscriptions           jpg           txt  \n",
       "count         17712         38341         38342  \n",
       "unique          438         33174         33170  \n",
       "top            [PF]  RIC_0013.jpg  RIC_0013.txt  \n",
       "freq           2203            24            24  "
      ]
     },
     "execution_count": 80,
     "metadata": {},
     "output_type": "execute_result"
    }
   ],
   "source": [
    "roman_coins.describe()"
   ]
  },
  {
   "cell_type": "code",
   "execution_count": 93,
   "metadata": {},
   "outputs": [
    {
     "data": {
      "text/html": [
       "<div>\n",
       "<style scoped>\n",
       "    .dataframe tbody tr th:only-of-type {\n",
       "        vertical-align: middle;\n",
       "    }\n",
       "\n",
       "    .dataframe tbody tr th {\n",
       "        vertical-align: top;\n",
       "    }\n",
       "\n",
       "    .dataframe thead th {\n",
       "        text-align: right;\n",
       "    }\n",
       "</style>\n",
       "<table border=\"1\" class=\"dataframe\">\n",
       "  <thead>\n",
       "    <tr style=\"text-align: right;\">\n",
       "      <th></th>\n",
       "      <th>title</th>\n",
       "      <th>id</th>\n",
       "      <th>metal</th>\n",
       "      <th>mass</th>\n",
       "      <th>diameter</th>\n",
       "      <th>era</th>\n",
       "      <th>year</th>\n",
       "      <th>inscriptions</th>\n",
       "      <th>jpg</th>\n",
       "      <th>txt</th>\n",
       "    </tr>\n",
       "  </thead>\n",
       "  <tbody>\n",
       "    <tr>\n",
       "      <th>1</th>\n",
       "      <td>Aelia Ariadne</td>\n",
       "      <td>RIC_0933a</td>\n",
       "      <td>Gold</td>\n",
       "      <td>1.46</td>\n",
       "      <td>14.0</td>\n",
       "      <td>AD</td>\n",
       "      <td>491</td>\n",
       "      <td>None</td>\n",
       "      <td>RIC_0933a.jpg</td>\n",
       "      <td>RIC_0933a.txt</td>\n",
       "    </tr>\n",
       "    <tr>\n",
       "      <th>2</th>\n",
       "      <td>Aelia Ariadne</td>\n",
       "      <td>RIC_933v</td>\n",
       "      <td>Gold</td>\n",
       "      <td>1.47</td>\n",
       "      <td>15.0</td>\n",
       "      <td>AD</td>\n",
       "      <td>491</td>\n",
       "      <td>None</td>\n",
       "      <td>RIC_933v.jpg</td>\n",
       "      <td>RIC_933v.txt</td>\n",
       "    </tr>\n",
       "    <tr>\n",
       "      <th>3</th>\n",
       "      <td>Aelia Ariadne</td>\n",
       "      <td>RIC_0933var2</td>\n",
       "      <td>Gold</td>\n",
       "      <td>4.47</td>\n",
       "      <td>NaN</td>\n",
       "      <td>AD</td>\n",
       "      <td>474</td>\n",
       "      <td>None</td>\n",
       "      <td>RIC_0933var2.jpg</td>\n",
       "      <td>RIC_0933var2.txt</td>\n",
       "    </tr>\n",
       "    <tr>\n",
       "      <th>4</th>\n",
       "      <td>Aelia Ariadne</td>\n",
       "      <td>RIC_0938</td>\n",
       "      <td>Gold</td>\n",
       "      <td>1.47</td>\n",
       "      <td>NaN</td>\n",
       "      <td>AD</td>\n",
       "      <td>474</td>\n",
       "      <td>None</td>\n",
       "      <td>RIC_0938.jpg</td>\n",
       "      <td>RIC_0938.txt</td>\n",
       "    </tr>\n",
       "    <tr>\n",
       "      <th>1</th>\n",
       "      <td>Aelia Flaccilla</td>\n",
       "      <td>_alexandria_RIC_017</td>\n",
       "      <td>Copper</td>\n",
       "      <td>None</td>\n",
       "      <td>NaN</td>\n",
       "      <td>None</td>\n",
       "      <td>NaN</td>\n",
       "      <td>None</td>\n",
       "      <td>_alexandria_RIC_017.jpg</td>\n",
       "      <td>_alexandria_RIC_017.txt</td>\n",
       "    </tr>\n",
       "    <tr>\n",
       "      <th>2</th>\n",
       "      <td>Aelia Flaccilla</td>\n",
       "      <td>_antioch_RIC_054</td>\n",
       "      <td>Copper</td>\n",
       "      <td>None</td>\n",
       "      <td>NaN</td>\n",
       "      <td>None</td>\n",
       "      <td>NaN</td>\n",
       "      <td>None</td>\n",
       "      <td>_antioch_RIC_054.jpg</td>\n",
       "      <td>_antioch_RIC_054.txt</td>\n",
       "    </tr>\n",
       "    <tr>\n",
       "      <th>3</th>\n",
       "      <td>Aelia Flaccilla</td>\n",
       "      <td>_antioch_RIC_061</td>\n",
       "      <td>Copper</td>\n",
       "      <td>None</td>\n",
       "      <td>NaN</td>\n",
       "      <td>None</td>\n",
       "      <td>NaN</td>\n",
       "      <td>None</td>\n",
       "      <td>_antioch_RIC_061.jpg</td>\n",
       "      <td>_antioch_RIC_061.txt</td>\n",
       "    </tr>\n",
       "    <tr>\n",
       "      <th>4</th>\n",
       "      <td>Aelia Flaccilla</td>\n",
       "      <td>_antioch_RIC_061_G</td>\n",
       "      <td>Copper</td>\n",
       "      <td>None</td>\n",
       "      <td>NaN</td>\n",
       "      <td>None</td>\n",
       "      <td>NaN</td>\n",
       "      <td>None</td>\n",
       "      <td>_antioch_RIC_061_G.jpg</td>\n",
       "      <td>_antioch_RIC_061_G.txt</td>\n",
       "    </tr>\n",
       "    <tr>\n",
       "      <th>5</th>\n",
       "      <td>Aelia Flaccilla</td>\n",
       "      <td>_antioch_RIC_062,D</td>\n",
       "      <td>Copper</td>\n",
       "      <td>None</td>\n",
       "      <td>NaN</td>\n",
       "      <td>None</td>\n",
       "      <td>NaN</td>\n",
       "      <td>None</td>\n",
       "      <td>_antioch_RIC_062,D.jpg</td>\n",
       "      <td>_antioch_RIC_062,D.txt</td>\n",
       "    </tr>\n",
       "    <tr>\n",
       "      <th>6</th>\n",
       "      <td>Aelia Flaccilla</td>\n",
       "      <td>_antioch_RIC_062</td>\n",
       "      <td>Copper</td>\n",
       "      <td>None</td>\n",
       "      <td>22.0</td>\n",
       "      <td>None</td>\n",
       "      <td>NaN</td>\n",
       "      <td>None</td>\n",
       "      <td>_antioch_RIC_062.jpg</td>\n",
       "      <td>_antioch_RIC_062.txt</td>\n",
       "    </tr>\n",
       "  </tbody>\n",
       "</table>\n",
       "</div>"
      ],
      "text/plain": [
       "             title                   id   metal  mass diameter   era year  \\\n",
       "1    Aelia Ariadne            RIC_0933a    Gold  1.46     14.0    AD  491   \n",
       "2    Aelia Ariadne             RIC_933v    Gold  1.47     15.0    AD  491   \n",
       "3    Aelia Ariadne         RIC_0933var2    Gold  4.47      NaN    AD  474   \n",
       "4    Aelia Ariadne             RIC_0938    Gold  1.47      NaN    AD  474   \n",
       "1  Aelia Flaccilla  _alexandria_RIC_017  Copper  None      NaN  None  NaN   \n",
       "2  Aelia Flaccilla     _antioch_RIC_054  Copper  None      NaN  None  NaN   \n",
       "3  Aelia Flaccilla     _antioch_RIC_061  Copper  None      NaN  None  NaN   \n",
       "4  Aelia Flaccilla   _antioch_RIC_061_G  Copper  None      NaN  None  NaN   \n",
       "5  Aelia Flaccilla   _antioch_RIC_062,D  Copper  None      NaN  None  NaN   \n",
       "6  Aelia Flaccilla     _antioch_RIC_062  Copper  None     22.0  None  NaN   \n",
       "\n",
       "  inscriptions                      jpg                      txt  \n",
       "1         None            RIC_0933a.jpg            RIC_0933a.txt  \n",
       "2         None             RIC_933v.jpg             RIC_933v.txt  \n",
       "3         None         RIC_0933var2.jpg         RIC_0933var2.txt  \n",
       "4         None             RIC_0938.jpg             RIC_0938.txt  \n",
       "1         None  _alexandria_RIC_017.jpg  _alexandria_RIC_017.txt  \n",
       "2         None     _antioch_RIC_054.jpg     _antioch_RIC_054.txt  \n",
       "3         None     _antioch_RIC_061.jpg     _antioch_RIC_061.txt  \n",
       "4         None   _antioch_RIC_061_G.jpg   _antioch_RIC_061_G.txt  \n",
       "5         None   _antioch_RIC_062,D.jpg   _antioch_RIC_062,D.txt  \n",
       "6         None     _antioch_RIC_062.jpg     _antioch_RIC_062.txt  "
      ]
     },
     "execution_count": 93,
     "metadata": {},
     "output_type": "execute_result"
    }
   ],
   "source": [
    "roman_coins2 = roman_coins.drop_duplicates(subset=['id'])\n",
    "roman_coins2.head(10)\n"
   ]
  },
  {
   "cell_type": "code",
   "execution_count": 94,
   "metadata": {},
   "outputs": [
    {
     "data": {
      "text/html": [
       "<div>\n",
       "<style scoped>\n",
       "    .dataframe tbody tr th:only-of-type {\n",
       "        vertical-align: middle;\n",
       "    }\n",
       "\n",
       "    .dataframe tbody tr th {\n",
       "        vertical-align: top;\n",
       "    }\n",
       "\n",
       "    .dataframe thead th {\n",
       "        text-align: right;\n",
       "    }\n",
       "</style>\n",
       "<table border=\"1\" class=\"dataframe\">\n",
       "  <thead>\n",
       "    <tr style=\"text-align: right;\">\n",
       "      <th></th>\n",
       "      <th>title</th>\n",
       "      <th>id</th>\n",
       "      <th>metal</th>\n",
       "      <th>mass</th>\n",
       "      <th>diameter</th>\n",
       "      <th>era</th>\n",
       "      <th>year</th>\n",
       "      <th>inscriptions</th>\n",
       "      <th>jpg</th>\n",
       "      <th>txt</th>\n",
       "    </tr>\n",
       "  </thead>\n",
       "  <tbody>\n",
       "    <tr>\n",
       "      <th>count</th>\n",
       "      <td>33275</td>\n",
       "      <td>33274</td>\n",
       "      <td>32636</td>\n",
       "      <td>8178.0</td>\n",
       "      <td>4631.0</td>\n",
       "      <td>19641</td>\n",
       "      <td>19641.0</td>\n",
       "      <td>11663</td>\n",
       "      <td>33273</td>\n",
       "      <td>33273</td>\n",
       "    </tr>\n",
       "    <tr>\n",
       "      <th>unique</th>\n",
       "      <td>220</td>\n",
       "      <td>33274</td>\n",
       "      <td>5</td>\n",
       "      <td>2386.0</td>\n",
       "      <td>410.0</td>\n",
       "      <td>2</td>\n",
       "      <td>495.0</td>\n",
       "      <td>359</td>\n",
       "      <td>33156</td>\n",
       "      <td>33149</td>\n",
       "    </tr>\n",
       "    <tr>\n",
       "      <th>top</th>\n",
       "      <td>Caracalla</td>\n",
       "      <td>RIC_0933a</td>\n",
       "      <td>Copper</td>\n",
       "      <td>2.9</td>\n",
       "      <td>22.0</td>\n",
       "      <td>AD</td>\n",
       "      <td>193.0</td>\n",
       "      <td>[PF]</td>\n",
       "      <td>RIC_0128.jpg</td>\n",
       "      <td>RIC_0128.txt</td>\n",
       "    </tr>\n",
       "    <tr>\n",
       "      <th>freq</th>\n",
       "      <td>2193</td>\n",
       "      <td>1</td>\n",
       "      <td>26757</td>\n",
       "      <td>36.0</td>\n",
       "      <td>305.0</td>\n",
       "      <td>19222</td>\n",
       "      <td>918.0</td>\n",
       "      <td>2067</td>\n",
       "      <td>3</td>\n",
       "      <td>3</td>\n",
       "    </tr>\n",
       "  </tbody>\n",
       "</table>\n",
       "</div>"
      ],
      "text/plain": [
       "            title         id   metal    mass  diameter    era     year  \\\n",
       "count       33275      33274   32636  8178.0    4631.0  19641  19641.0   \n",
       "unique        220      33274       5  2386.0     410.0      2    495.0   \n",
       "top     Caracalla  RIC_0933a  Copper     2.9      22.0     AD    193.0   \n",
       "freq         2193          1   26757    36.0     305.0  19222    918.0   \n",
       "\n",
       "       inscriptions           jpg           txt  \n",
       "count         11663         33273         33273  \n",
       "unique          359         33156         33149  \n",
       "top            [PF]  RIC_0128.jpg  RIC_0128.txt  \n",
       "freq           2067             3             3  "
      ]
     },
     "execution_count": 94,
     "metadata": {},
     "output_type": "execute_result"
    }
   ],
   "source": [
    "roman_coins2.describe()"
   ]
  },
  {
   "cell_type": "code",
   "execution_count": 136,
   "metadata": {},
   "outputs": [
    {
     "data": {
      "text/html": [
       "<div>\n",
       "<style scoped>\n",
       "    .dataframe tbody tr th:only-of-type {\n",
       "        vertical-align: middle;\n",
       "    }\n",
       "\n",
       "    .dataframe tbody tr th {\n",
       "        vertical-align: top;\n",
       "    }\n",
       "\n",
       "    .dataframe thead th {\n",
       "        text-align: right;\n",
       "    }\n",
       "</style>\n",
       "<table border=\"1\" class=\"dataframe\">\n",
       "  <thead>\n",
       "    <tr style=\"text-align: right;\">\n",
       "      <th></th>\n",
       "      <th>title</th>\n",
       "      <th>id</th>\n",
       "      <th>metal</th>\n",
       "      <th>mass</th>\n",
       "      <th>diameter</th>\n",
       "      <th>era</th>\n",
       "      <th>year</th>\n",
       "      <th>inscriptions</th>\n",
       "      <th>jpg</th>\n",
       "      <th>txt</th>\n",
       "    </tr>\n",
       "  </thead>\n",
       "  <tbody>\n",
       "    <tr>\n",
       "      <th>489</th>\n",
       "      <td>Augustus</td>\n",
       "      <td>RPC_0620</td>\n",
       "      <td>Brass</td>\n",
       "      <td>18.92</td>\n",
       "      <td>30.0</td>\n",
       "      <td>BC</td>\n",
       "      <td>-38.0</td>\n",
       "      <td>[CAESAR]</td>\n",
       "      <td>RPC_0620.jpg</td>\n",
       "      <td>RPC_0620.txt</td>\n",
       "    </tr>\n",
       "    <tr>\n",
       "      <th>7</th>\n",
       "      <td>Augustus</td>\n",
       "      <td>RIC_0003</td>\n",
       "      <td>Silver</td>\n",
       "      <td>3.58</td>\n",
       "      <td>21.4</td>\n",
       "      <td>BC</td>\n",
       "      <td>-23.0</td>\n",
       "      <td>[IMP, CAESAR]</td>\n",
       "      <td>RIC_0003.jpg</td>\n",
       "      <td>RIC_0003.txt</td>\n",
       "    </tr>\n",
       "    <tr>\n",
       "      <th>179</th>\n",
       "      <td>Augustus</td>\n",
       "      <td>RIC_0319</td>\n",
       "      <td>Silver</td>\n",
       "      <td>3.86</td>\n",
       "      <td>19.0</td>\n",
       "      <td>BC</td>\n",
       "      <td>-18.0</td>\n",
       "      <td>[CAESAR]</td>\n",
       "      <td>RIC_0319.jpg</td>\n",
       "      <td>RIC_0319.txt</td>\n",
       "    </tr>\n",
       "    <tr>\n",
       "      <th>177</th>\n",
       "      <td>Augustus</td>\n",
       "      <td>RIC_0317</td>\n",
       "      <td>Silver</td>\n",
       "      <td>3.68</td>\n",
       "      <td>19.0</td>\n",
       "      <td>BC</td>\n",
       "      <td>-18.0</td>\n",
       "      <td>[CAESAR]</td>\n",
       "      <td>RIC_0317.jpg</td>\n",
       "      <td>RIC_0317.txt</td>\n",
       "    </tr>\n",
       "    <tr>\n",
       "      <th>176</th>\n",
       "      <td>Augustus</td>\n",
       "      <td>RIC_0316</td>\n",
       "      <td>Gold</td>\n",
       "      <td>8.22</td>\n",
       "      <td>21.0</td>\n",
       "      <td>BC</td>\n",
       "      <td>-18.0</td>\n",
       "      <td>[CAESAR]</td>\n",
       "      <td>RIC_0316.jpg</td>\n",
       "      <td>RIC_0316.txt</td>\n",
       "    </tr>\n",
       "    <tr>\n",
       "      <th>215</th>\n",
       "      <td>Augustus</td>\n",
       "      <td>RIC_0374</td>\n",
       "      <td>Brass</td>\n",
       "      <td>24.18</td>\n",
       "      <td>34.0</td>\n",
       "      <td>BC</td>\n",
       "      <td>-16.0</td>\n",
       "      <td>[C]</td>\n",
       "      <td>RIC_0374.jpg</td>\n",
       "      <td>RIC_0374.txt</td>\n",
       "    </tr>\n",
       "    <tr>\n",
       "      <th>36</th>\n",
       "      <td>Augustus</td>\n",
       "      <td>RIC_0051</td>\n",
       "      <td>Silver</td>\n",
       "      <td>3.92</td>\n",
       "      <td>20.0</td>\n",
       "      <td>BC</td>\n",
       "      <td>-16.0</td>\n",
       "      <td>[AVGVSTVS, CAESAR]</td>\n",
       "      <td>RIC_0051.jpg</td>\n",
       "      <td>RIC_0051.txt</td>\n",
       "    </tr>\n",
       "    <tr>\n",
       "      <th>225</th>\n",
       "      <td>Augustus</td>\n",
       "      <td>RIC_0384</td>\n",
       "      <td>Brass</td>\n",
       "      <td>8.8</td>\n",
       "      <td>28.0</td>\n",
       "      <td>BC</td>\n",
       "      <td>-15.0</td>\n",
       "      <td>[AVGVSTVS]</td>\n",
       "      <td>RIC_0384.jpg</td>\n",
       "      <td>RIC_0384.txt</td>\n",
       "    </tr>\n",
       "    <tr>\n",
       "      <th>240</th>\n",
       "      <td>Augustus</td>\n",
       "      <td>RIC_0411</td>\n",
       "      <td>Gold</td>\n",
       "      <td>7.89</td>\n",
       "      <td>21.0</td>\n",
       "      <td>BC</td>\n",
       "      <td>-13.0</td>\n",
       "      <td>[CAESAR, C]</td>\n",
       "      <td>RIC_0411.jpg</td>\n",
       "      <td>RIC_0411.txt</td>\n",
       "    </tr>\n",
       "    <tr>\n",
       "      <th>481</th>\n",
       "      <td>Augustus</td>\n",
       "      <td>RPC_0445</td>\n",
       "      <td>Copper</td>\n",
       "      <td>12.41</td>\n",
       "      <td>29.5</td>\n",
       "      <td>BC</td>\n",
       "      <td>-2.0</td>\n",
       "      <td>[IMP]</td>\n",
       "      <td>RPC_0445.jpg</td>\n",
       "      <td>RPC_0445.txt</td>\n",
       "    </tr>\n",
       "  </tbody>\n",
       "</table>\n",
       "</div>"
      ],
      "text/plain": [
       "        title        id   metal   mass diameter era  year        inscriptions  \\\n",
       "489  Augustus  RPC_0620   Brass  18.92     30.0  BC -38.0            [CAESAR]   \n",
       "7    Augustus  RIC_0003  Silver   3.58     21.4  BC -23.0       [IMP, CAESAR]   \n",
       "179  Augustus  RIC_0319  Silver   3.86     19.0  BC -18.0            [CAESAR]   \n",
       "177  Augustus  RIC_0317  Silver   3.68     19.0  BC -18.0            [CAESAR]   \n",
       "176  Augustus  RIC_0316    Gold   8.22     21.0  BC -18.0            [CAESAR]   \n",
       "215  Augustus  RIC_0374   Brass  24.18     34.0  BC -16.0                 [C]   \n",
       "36   Augustus  RIC_0051  Silver   3.92     20.0  BC -16.0  [AVGVSTVS, CAESAR]   \n",
       "225  Augustus  RIC_0384   Brass    8.8     28.0  BC -15.0          [AVGVSTVS]   \n",
       "240  Augustus  RIC_0411    Gold   7.89     21.0  BC -13.0         [CAESAR, C]   \n",
       "481  Augustus  RPC_0445  Copper  12.41     29.5  BC  -2.0               [IMP]   \n",
       "\n",
       "              jpg           txt  \n",
       "489  RPC_0620.jpg  RPC_0620.txt  \n",
       "7    RIC_0003.jpg  RIC_0003.txt  \n",
       "179  RIC_0319.jpg  RIC_0319.txt  \n",
       "177  RIC_0317.jpg  RIC_0317.txt  \n",
       "176  RIC_0316.jpg  RIC_0316.txt  \n",
       "215  RIC_0374.jpg  RIC_0374.txt  \n",
       "36   RIC_0051.jpg  RIC_0051.txt  \n",
       "225  RIC_0384.jpg  RIC_0384.txt  \n",
       "240  RIC_0411.jpg  RIC_0411.txt  \n",
       "481  RPC_0445.jpg  RPC_0445.txt  "
      ]
     },
     "execution_count": 136,
     "metadata": {},
     "output_type": "execute_result"
    }
   ],
   "source": [
    "roman_coins3 = roman_coins2.dropna()\n",
    "roman_coins3 = roman_coins3[roman_coins3['year']>float(-263.0)]\n",
    "roman_coins3 = roman_coins3[roman_coins3['year']<float(500)]\n",
    "roman_coins3.sort_values(by='year').head(10)\n"
   ]
  },
  {
   "cell_type": "code",
   "execution_count": 141,
   "metadata": {},
   "outputs": [
    {
     "name": "stdout",
     "output_type": "stream",
     "text": [
      "73.28 0.7\n"
     ]
    }
   ],
   "source": [
    "print(max(roman_coins3['mass']), min(roman_coins3['mass']))"
   ]
  },
  {
   "cell_type": "code",
   "execution_count": 137,
   "metadata": {},
   "outputs": [
    {
     "data": {
      "text/html": [
       "<div>\n",
       "<style scoped>\n",
       "    .dataframe tbody tr th:only-of-type {\n",
       "        vertical-align: middle;\n",
       "    }\n",
       "\n",
       "    .dataframe tbody tr th {\n",
       "        vertical-align: top;\n",
       "    }\n",
       "\n",
       "    .dataframe thead th {\n",
       "        text-align: right;\n",
       "    }\n",
       "</style>\n",
       "<table border=\"1\" class=\"dataframe\">\n",
       "  <thead>\n",
       "    <tr style=\"text-align: right;\">\n",
       "      <th></th>\n",
       "      <th>title</th>\n",
       "      <th>id</th>\n",
       "      <th>metal</th>\n",
       "      <th>mass</th>\n",
       "      <th>diameter</th>\n",
       "      <th>era</th>\n",
       "      <th>year</th>\n",
       "      <th>inscriptions</th>\n",
       "      <th>jpg</th>\n",
       "      <th>txt</th>\n",
       "    </tr>\n",
       "  </thead>\n",
       "  <tbody>\n",
       "    <tr>\n",
       "      <th>count</th>\n",
       "      <td>853</td>\n",
       "      <td>853</td>\n",
       "      <td>853</td>\n",
       "      <td>853.0</td>\n",
       "      <td>853.0</td>\n",
       "      <td>853</td>\n",
       "      <td>853.0</td>\n",
       "      <td>853</td>\n",
       "      <td>853</td>\n",
       "      <td>853</td>\n",
       "    </tr>\n",
       "    <tr>\n",
       "      <th>unique</th>\n",
       "      <td>116</td>\n",
       "      <td>853</td>\n",
       "      <td>5</td>\n",
       "      <td>574.0</td>\n",
       "      <td>143.0</td>\n",
       "      <td>2</td>\n",
       "      <td>228.0</td>\n",
       "      <td>125</td>\n",
       "      <td>853</td>\n",
       "      <td>853</td>\n",
       "    </tr>\n",
       "    <tr>\n",
       "      <th>top</th>\n",
       "      <td>Antoninus Pius</td>\n",
       "      <td>RIC_1054</td>\n",
       "      <td>Copper</td>\n",
       "      <td>3.2</td>\n",
       "      <td>18.0</td>\n",
       "      <td>AD</td>\n",
       "      <td>193.0</td>\n",
       "      <td>[PF]</td>\n",
       "      <td>RIC_1054.jpg</td>\n",
       "      <td>RIC_1054.txt</td>\n",
       "    </tr>\n",
       "    <tr>\n",
       "      <th>freq</th>\n",
       "      <td>49</td>\n",
       "      <td>1</td>\n",
       "      <td>429</td>\n",
       "      <td>8.0</td>\n",
       "      <td>78.0</td>\n",
       "      <td>843</td>\n",
       "      <td>34.0</td>\n",
       "      <td>144</td>\n",
       "      <td>1</td>\n",
       "      <td>1</td>\n",
       "    </tr>\n",
       "  </tbody>\n",
       "</table>\n",
       "</div>"
      ],
      "text/plain": [
       "                 title        id   metal   mass  diameter  era   year  \\\n",
       "count              853       853     853  853.0     853.0  853  853.0   \n",
       "unique             116       853       5  574.0     143.0    2  228.0   \n",
       "top     Antoninus Pius  RIC_1054  Copper    3.2      18.0   AD  193.0   \n",
       "freq                49         1     429    8.0      78.0  843   34.0   \n",
       "\n",
       "       inscriptions           jpg           txt  \n",
       "count           853           853           853  \n",
       "unique          125           853           853  \n",
       "top            [PF]  RIC_1054.jpg  RIC_1054.txt  \n",
       "freq            144             1             1  "
      ]
     },
     "execution_count": 137,
     "metadata": {},
     "output_type": "execute_result"
    }
   ],
   "source": [
    "roman_coins3.describe()"
   ]
  },
  {
   "attachments": {},
   "cell_type": "markdown",
   "metadata": {},
   "source": [
    "### run code chunk below to save new Dataframe as a csv file"
   ]
  },
  {
   "cell_type": "code",
   "execution_count": 83,
   "metadata": {},
   "outputs": [],
   "source": [
    "roman_coins.to_csv('roman_coins_raw.csv')"
   ]
  },
  {
   "attachments": {},
   "cell_type": "markdown",
   "metadata": {},
   "source": [
    "## Create Dataframe for just titles and subtitles \n",
    "(since subtitles are often too long to fit comfortably in a Dataframe - useful for later joins if subtitles are desired)"
   ]
  },
  {
   "cell_type": "code",
   "execution_count": 84,
   "metadata": {},
   "outputs": [],
   "source": [
    "# titles_and_subtitles = \n",
    "    "
   ]
  },
  {
   "attachments": {},
   "cell_type": "markdown",
   "metadata": {},
   "source": [
    "### create a new dataframe which includes linkroots before jpg, using join"
   ]
  },
  {
   "attachments": {},
   "cell_type": "markdown",
   "metadata": {},
   "source": [
    "#### Filter values for analysis table\n",
    "A substantial portion of the coins in our dataset are missing year, mass, diameter, and other values, and many of those values appear to fall outside the normal. Let's filter out missing values and outliers, and see if how many coins we're left to work with. First, we have to identify the outliers before filtering them out. Then, we'll check for substantial gaps in the timeline of years. "
   ]
  }
 ],
 "metadata": {
  "kernelspec": {
   "display_name": "base",
   "language": "python",
   "name": "python3"
  },
  "language_info": {
   "codemirror_mode": {
    "name": "ipython",
    "version": 3
   },
   "file_extension": ".py",
   "mimetype": "text/x-python",
   "name": "python",
   "nbconvert_exporter": "python",
   "pygments_lexer": "ipython3",
   "version": "3.9.13"
  },
  "vscode": {
   "interpreter": {
    "hash": "f50a94dbaf771159da26313fc2ee78d1c8bb11c3fc2558836e83916cfc7976fb"
   }
  }
 },
 "nbformat": 4,
 "nbformat_minor": 4
}
