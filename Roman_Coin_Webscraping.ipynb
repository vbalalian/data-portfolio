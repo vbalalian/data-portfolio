{
 "cells": [
  {
   "attachments": {},
   "cell_type": "markdown",
   "metadata": {},
   "source": [
    "# Building a dataset of Ancient Roman coins by ruler, using webscraping\n",
    "wildwinds.com contains an html-based list of Ancient Roman coins from the era of the Roman Empire, contained on separate pages for each emperor/honoree, with inconsistently formatted descriptions and data"
   ]
  },
  {
   "attachments": {},
   "cell_type": "markdown",
   "metadata": {},
   "source": [
    "### Import webscraping tools: requests, BeautifulSoup, and pandas"
   ]
  },
  {
   "cell_type": "code",
   "execution_count": 3,
   "metadata": {},
   "outputs": [],
   "source": [
    "import requests\n",
    "from bs4 import BeautifulSoup\n",
    "import pandas as pd"
   ]
  },
  {
   "attachments": {},
   "cell_type": "markdown",
   "metadata": {},
   "source": [
    "#### Variables list:\n",
    "soup<br>\n",
    "options<br>\n",
    "emperors_raw<br>\n",
    "emperors<br>\n",
    "linkroots<br>\n",
    "testpages<br>\n",
    "test_roots<br>\n",
    "test_pages_raw<br>\n",
    "test_soups<br>\n",
    "pages_raw<br>\n",
    "all_soups<br>\n",
    "roman_coins\n",
    "\n",
    "#### Functions list:\n",
    "pull_title(soup)<br>\n",
    "pull_subtitle(soup)<br>\n",
    "pull_coins(soup)<br>\n",
    "pull_coins_test(soup)<br>\n",
    "coin_metal(coin)<br>\n",
    "coin_era(coin)<br>\n",
    "coin_year(coin)<br>\n",
    "coin_jpg(coin)<br>\n",
    "coin_txt(coin)<br>\n",
    "coin_id<br>\n",
    "coin_mass(coin)<br>\n",
    "coin_size(coin)<br>\n",
    "coin_inscriptions(coin)<br>\n",
    "coin_df<br>\n",
    "combine_coin_dfs<br>"
   ]
  },
  {
   "attachments": {},
   "cell_type": "markdown",
   "metadata": {},
   "source": [
    "### Grab list of links for the landing pages of the various emperors/rulers/honorees from https://www.wildwinds.com/coins/ric/i.html"
   ]
  },
  {
   "cell_type": "code",
   "execution_count": 4,
   "metadata": {},
   "outputs": [],
   "source": [
    "with requests.get('https://www.wildwinds.com/coins/ric/i.html') as raw:\n",
    "    soup = BeautifulSoup(raw.content, 'lxml')"
   ]
  },
  {
   "attachments": {},
   "cell_type": "markdown",
   "metadata": {},
   "source": [
    "### Parse html data for a clean list of ruler names"
   ]
  },
  {
   "cell_type": "code",
   "execution_count": 5,
   "metadata": {},
   "outputs": [
    {
     "name": "stdout",
     "output_type": "stream",
     "text": [
      "First five: ['Aelia Ariadne', 'Aelia Flacilla', 'Aelia Verina', 'Aelius', 'Aemilian'] \n",
      "Last five: ['Vitellius', 'Volusian', 'Zeno', 'Zenobia', 'Zenonis'] \n",
      "231 emperors total\n"
     ]
    }
   ],
   "source": [
    "options = soup.find_all('option')\n",
    "emperors_raw = [i.contents for i in options if i.attrs['value'] != ''][:-6]\n",
    "emperors = []\n",
    "for line in emperors_raw:\n",
    "    for text in line:\n",
    "        emperors.append(text.strip())\n",
    "print(f'First five: {emperors[:5]} \\nLast five: {emperors[-5:]} \\n{len(emperors)} emperors total')"
   ]
  },
  {
   "cell_type": "markdown",
   "metadata": {},
   "source": [
    "### Generate list of usable link roots for each Emperor's coin page"
   ]
  },
  {
   "cell_type": "code",
   "execution_count": 6,
   "metadata": {},
   "outputs": [
    {
     "name": "stdout",
     "output_type": "stream",
     "text": [
      "First five: ['https://www.wildwinds.com/coins/ric/aelia_ariadne/', 'https://www.wildwinds.com/coins/ric/aelia_flaccilla/', 'https://www.wildwinds.com/coins/ric/aelia_verina/', 'https://www.wildwinds.com/coins/ric/aelius/', 'https://www.wildwinds.com/coins/ric/aemilian/'] \n",
      "Last five: ['https://www.wildwinds.com/coins/ric/vitellius/', 'https://www.wildwinds.com/coins/ric/volusian/', 'https://www.wildwinds.com/coins/ric/zeno/', 'https://www.wildwinds.com/coins/ric/zenobia/', 'https://www.wildwinds.com/coins/ric/zenonis/'] \n",
      "231 linkroots total\n"
     ]
    }
   ],
   "source": [
    "linkroots = ['https://www.wildwinds.com/coins/ric/' + i.attrs['value'][:-6] for i in options if i.attrs['value'] != ''][:-6]\n",
    "print(f'First five: {linkroots[:5]} \\nLast five: {linkroots[-5:]} \\n{len(linkroots)} linkroots total')"
   ]
  },
  {
   "cell_type": "markdown",
   "metadata": {},
   "source": [
    "### Create a semi-random list of test pages for building an adaptable parser"
   ]
  },
  {
   "cell_type": "code",
   "execution_count": 7,
   "metadata": {},
   "outputs": [
    {
     "name": "stdout",
     "output_type": "stream",
     "text": [
      "https://www.wildwinds.com/coins/ric/aelia_verina/\n",
      "https://www.wildwinds.com/coins/ric/aemilian/\n",
      "https://www.wildwinds.com/coins/ric/agrippina_II/\n",
      "https://www.wildwinds.com/coins/ric/annius_verus/\n",
      "https://www.wildwinds.com/coins/ric/augustus/\n",
      "https://www.wildwinds.com/coins/ric/commodus/\n",
      "https://www.wildwinds.com/coins/ric/galba/\n",
      "https://www.wildwinds.com/coins/ric/laelianus/\n",
      "https://www.wildwinds.com/coins/ric/martinian/\n",
      "https://www.wildwinds.com/coins/ric/tacitus/\n"
     ]
    }
   ],
   "source": [
    "testpages = [2, 4, 8, 12, 21, 42, 81, 118, 142, 196]\n",
    "test_roots = [linkroots[i] for i in testpages]\n",
    "for i in test_roots:\n",
    "    print(i)"
   ]
  },
  {
   "cell_type": "markdown",
   "metadata": {},
   "source": [
    "## pull html from test pages"
   ]
  },
  {
   "cell_type": "code",
   "execution_count": 8,
   "metadata": {},
   "outputs": [],
   "source": [
    "test_pages_raw = [requests.get(linkroots[i] + 'i.html') for i in testpages]"
   ]
  },
  {
   "cell_type": "markdown",
   "metadata": {},
   "source": [
    "## explore test page html"
   ]
  },
  {
   "cell_type": "code",
   "execution_count": 9,
   "metadata": {},
   "outputs": [],
   "source": [
    "test_soups = [BeautifulSoup(test_pages_raw[i].content, 'lxml') for i in range(len(test_pages_raw))]"
   ]
  },
  {
   "cell_type": "code",
   "execution_count": 10,
   "metadata": {},
   "outputs": [
    {
     "name": "stdout",
     "output_type": "stream",
     "text": [
      "Test soup preview: \n",
      "\n",
      "<html>\n",
      "<head>\n",
      "<title>Augustus, Roman Imperial Coins of, at WildWinds.com\n",
      "</title>\n",
      "<meta content=\"width=device-width, initial-scale=1\" name=\"viewport\"/>\n",
      "<base target=\"_parent\"/>\n",
      "</head>\n",
      "<body bgcolor=\"#D7D5D5\">\n",
      "<object data=\"https://www.wildwinds.com/coins/topscript.html\" height=\"160\" width=\"100%\"></object><br/>\n",
      "<center>\n",
      "<p></p><h2>Browsing Roman Imperial Coins of Augustus</h2>\n",
      "<p><img src=\"toppic.jpg\"/>\n",
      "<br/><font size=\"2\">Octavian: Senator, Consul and Triumvir from 43 BC; de-facto sole ruler from 27 BC; proclaimed Augustus, emperor 12 BC - 14 AD.</font>\n",
      "</p><h3><a href=\"t.html\">Browse the Augustus page with thumbnail images.</a></h3>\n",
      "<table border=\"1\" cellpadding=\"0\" cellspacing=\"1\">\n",
      "<tr><td>Note </td><td colspan=\"3\">This page has later Roman Imperial issues from after Octavian was proclaimed Augustus in 27 BC. Earlier Imperatorial issues are listed on the <a href=\"../../imp/octavian/i.html\">Octavian page</a>, though most Provincial issues are listed here regardless of date.</td><td></td></tr>\n",
      "<tr><td bgcolor=\"#FFD700\">BMCRE 317</td><td>Augustus AR aureus, Emerita mint. 19-18 BC. 7.86 g. CAESAR AVGVSTVS between two laurel trees / OB CIVIS SERVATOS in three lines within an oak wreath. BMCRE 317; Cohen 206; Calico 249; RIC -; Sear -.</td><td><a href=\"BMCRE_317.txt\">Text</a></td><td><a href=\"BMCRE_317.jpg\">Image</a></td></tr>\n",
      "<tr><td bgcolor=\"#C0C0C0\">BMCRE 317<br/>denarius</td><td>Augustus AR denarius from aureus dies, Emerita mint. 19-18 BC. CAESAR AVGVSTVS between two laurel trees / OB CIVIS SERVATOS in three lines within an oak wreath. BMCRE 317 var (aureus only); RIC - (ditto); Sear - (ditto).</td><td><a href=\"BMCRE_317_denarius.txt\">Text</a></td><td><a href=\"BMCRE_317_denarius.jpg\">Image</a></td></tr>\n",
      "<tr><td bgcolor=\"#B87333\">Cohen 92</td><td>Augustus, AE contortiate. Struck AD 356-394. 38.7 mm, 26.81 gr. DIVVS AVGVSTVS PATER, laureate head right, countermark: palm branch in right field / Hunting scene, stag running right, chased by hounds, hare running right \n"
     ]
    }
   ],
   "source": [
    "print(f'Test soup preview: \\n\\n{str(test_soups[4])[:2000]}')"
   ]
  },
  {
   "cell_type": "markdown",
   "metadata": {},
   "source": [
    "### Create function to pull soup title"
   ]
  },
  {
   "cell_type": "code",
   "execution_count": 11,
   "metadata": {},
   "outputs": [],
   "source": [
    "def pull_title(soup):\n",
    "    raw_title = soup.find('title').contents[0]\n",
    "    sep = raw_title.find(',')\n",
    "    return str(raw_title[:sep])"
   ]
  },
  {
   "cell_type": "code",
   "execution_count": 12,
   "metadata": {},
   "outputs": [
    {
     "name": "stdout",
     "output_type": "stream",
     "text": [
      "Aelia Verina\n",
      "Aemilian\n",
      "Agrippina II\n",
      "Annius Verus\n",
      "Augustus\n",
      "Commodus\n",
      "Galba\n",
      "Laelianus\n",
      "Martinian\n",
      "Tacitus\n"
     ]
    }
   ],
   "source": [
    "for soup in test_soups:\n",
    "    print(pull_title(soup), sep=' ')"
   ]
  },
  {
   "cell_type": "markdown",
   "metadata": {},
   "source": [
    "### Create a similar function to pull subtitles"
   ]
  },
  {
   "cell_type": "code",
   "execution_count": 13,
   "metadata": {},
   "outputs": [],
   "source": [
    "def pull_subtitle(soup):\n",
    "    try:\n",
    "        subtitle = soup.find_all('h3')[0].contents[-1]\n",
    "        if 'Click' in str(subtitle) or 'Browse' in str(subtitle):\n",
    "            try:\n",
    "                subtitle = soup.find('font').contents[0]\n",
    "            except:\n",
    "                return None\n",
    "    except IndexError:\n",
    "        try:\n",
    "            subtitle = soup.find_all('p')[1].contents[-1]\n",
    "            if 'Click' in str(subtitle) or 'Browse' in str(subtitle):\n",
    "                raise IndexError\n",
    "            elif len(subtitle) < 4:\n",
    "                try:\n",
    "                    subtitle = soup.find_all('br')[0].contents[0]\n",
    "                except:\n",
    "                    subtitle = None\n",
    "        except IndexError:\n",
    "            subtitle = None\n",
    "    if '(' in str(subtitle) or '<' in str(subtitle):\n",
    "        return None\n",
    "    return str(subtitle).strip()"
   ]
  },
  {
   "cell_type": "code",
   "execution_count": 14,
   "metadata": {},
   "outputs": [
    {
     "name": "stdout",
     "output_type": "stream",
     "text": [
      "Wife of Leo I. Died 484 AD.\n",
      "Aemilian, 253 AD.\n",
      "None\n",
      "Son of Marcus Aurelius. Died 161 AD.\n",
      "Octavian: Senator, Consul and Triumvir from 43 BC; de-facto sole ruler from 27 BC; proclaimed Augustus, emperor 12 BC - 14 AD.\n",
      "Commodus, Caesar 172-179, Augustus 179-192 AD.\n",
      "Galba, AD 68-69.\n",
      "Ulpius Cornelius Laelianus, usurper against Postumus, 269 AD.\n",
      "None\n",
      "Tacitus, 275-276 AD.\n"
     ]
    }
   ],
   "source": [
    "for soup in test_soups:\n",
    "    print(pull_subtitle(soup))"
   ]
  },
  {
   "cell_type": "markdown",
   "metadata": {},
   "source": [
    "### Create pull_coins to create a list of html chunks for each coin"
   ]
  },
  {
   "cell_type": "code",
   "execution_count": 15,
   "metadata": {},
   "outputs": [
    {
     "name": "stdout",
     "output_type": "stream",
     "text": [
      "808 coins in soup \n",
      "First ten: \n",
      "\n",
      "[<td bgcolor=\"#FFD700\">BMCRE 317</td>, <td>Augustus AR aureus, Emerita mint. 19-18 BC. 7.86 g. CAESAR AVGVSTVS between two laurel trees / OB CIVIS SERVATOS in three lines within an oak wreath. BMCRE 317; Cohen 206; Calico 249; RIC -; Sear -.</td>, <td><a href=\"BMCRE_317.txt\">Text</a></td>, <td><a href=\"BMCRE_317.jpg\">Image</a></td>] \n",
      "\n",
      "[<td bgcolor=\"#C0C0C0\">BMCRE 317<br/>denarius</td>, <td>Augustus AR denarius from aureus dies, Emerita mint. 19-18 BC. CAESAR AVGVSTVS between two laurel trees / OB CIVIS SERVATOS in three lines within an oak wreath. BMCRE 317 var (aureus only); RIC - (ditto); Sear - (ditto).</td>, <td><a href=\"BMCRE_317_denarius.txt\">Text</a></td>, <td><a href=\"BMCRE_317_denarius.jpg\">Image</a></td>] \n",
      "\n",
      "[<td bgcolor=\"#B87333\">Cohen 92</td>, <td>Augustus, AE contortiate. Struck AD 356-394. 38.7 mm, 26.81 gr. DIVVS AVGVSTVS PATER, laureate head right, countermark: palm branch in right field / Hunting scene, stag running right, chased by hounds, hare running right above; city wall around lower left. Cohen 92; Alfoeldi I, 122.5; Sambon 903.</td>, <td><a href=\"Cohen_92.txt\">Text</a></td>, <td><a href=\"Cohen_92.jpg\">Image</a></td>] \n",
      "\n",
      "[<td bgcolor=\"#C0C0C0\">RIC 1a <br/>Sear5 1642</td>, <td>Augustus AR Quinarius. Minted in Emerita, Spain, 25-23 BC, by P Carisia. Bare head right / P CARISI LEG, Victory standing right crowning trophy, dagger and curved sword at base. RSC 386. </td>, <td><a href=\"RIC_0001a.txt\">Text</a></td>, <td><a href=\"RIC_0001a.jpg\">Image</a></td>] \n",
      "\n",
      "[<td bgcolor=\"#C0C0C0\">RIC 1b</td>, <td>Augustus AR Quinarius. Spain, Emerita mint, 25-23 BC. Bare head left, AVGVST behind / P CARISI LEG, Victory standing right, crowning trophy. RSC 387, BMC 295. </td>, <td><a href=\"RIC_0001b.txt\">Text</a></td>, <td><a href=\"RIC_0001b.jpg\">Image</a></td>] \n",
      "\n",
      "[<td bgcolor=\"#C0C0C0\">RIC 2a</td>, <td>Augustus Denarius. Emerita mint, ca 25-23 BC. P Carisius, legate propraetore. IMP CAESAR AVGVST, bare head right / P dot CARISIVS dot LEG dot PRO dot PR, spear head, round shield with boss and decoration, and curved sword. </td>, <td><a href=\"RIC_0002a.txt\">Text</a></td>, <td><a href=\"RIC_0002a.jpg\">Image</a></td>] \n",
      "\n",
      "[<td bgcolor=\"#C0C0C0\">RIC 3</td>, <td>Augustus. AR denarius, Emerita mint. 21.4 mm, 3.58 g. Struck 25-23 BC. Legate P. Carisius. IMP CAESAR AVGVSTVS, anti-clockwise from lower right, bare head right. / P CARISIVS LEG PRO PR, round shield with octagon in central boss, spearhead with short shaft above, curved sword right below. RIC 3; BMCRE 277; RSC 400.</td>, <td><a href=\"RIC_0003.txt\">Text</a></td>, <td><a href=\"RIC_0003.jpg\">Image</a></td>] \n",
      "\n",
      "[<td bgcolor=\"#C0C0C0\">RIC 4b <br/>Sear5 1628</td>, <td>Augustus Denarius. Emerita mint, ca 25-23 BC. P Carisius, legatus propraetore. IMP CAESAR AVGVST, bare head left / P CARISIVS LEG PRO PR, trophy on heap of arms. RSC 402. </td>, <td><a href=\"RIC_0004b.txt\">Text</a></td>, <td><a href=\"RIC_0004b.jpg\">Image</a></td>] \n",
      "\n",
      "[<td bgcolor=\"#C0C0C0\">RIC 5</td>, <td>Augustus Denarius. Minted at Emerita, Spain, 25-23 BC, by P Carisius. IMP CAESAR AVGVST, bare head right / P CARISIVS LEG PRO PR, trophy of Celtiberian arms erected on heap of shields and lances. RSC 403a. </td>, <td><a href=\"RIC_0005.txt\">Text</a></td>, <td><a href=\"RIC_0005.jpg\">Image</a></td>] \n",
      "\n",
      "[<td bgcolor=\"#C0C0C0\">RIC 6</td>, <td>Augustus. AR denarius, Emerita mint. 20 mm, 3.8 g. Struck 25-23 BC. Legate P. Carisius. IMP CAESAR AVGVST, anti-clockwise from lower right, bare head right. / P CARISIVS LEG PRO PR, trophy, consisting of helmet, cuirass and shield with naked, bound captive kneeling right at its base. RIC 6; BMCRE 287; RSC 404; BMCRR Spain 120; Paris 1035.</td>, <td><a href=\"RIC_0006.txt\">Text</a></td>, <td><a href=\"RIC_0006.jpg\">Image</a></td>] \n",
      "\n"
     ]
    }
   ],
   "source": [
    "def pull_coins(soup):\n",
    "    coins = [coin.contents for coin in soup.find_all('tr') if len(coin) >2 and 'bgcolor' in str(coin)]\n",
    "    return coins\n",
    "\n",
    "def pull_coins_test(soup_no=7):\n",
    "    test_coins = pull_coins(test_soups[soup_no])\n",
    "    print(f'{len(test_coins)} coins in soup \\nFirst ten: \\n')\n",
    "    for i in test_coins[:10]:\n",
    "        print(i, '\\n')\n",
    "        \n",
    "pull_coins_test(4)\n",
    "# enter function argument 1-10 to test against corresponding test soup"
   ]
  },
  {
   "cell_type": "markdown",
   "metadata": {},
   "source": [
    "### Create coin_metal() to identify the coinage metal"
   ]
  },
  {
   "cell_type": "code",
   "execution_count": 16,
   "metadata": {},
   "outputs": [],
   "source": [
    "def coin_metal(coin):\n",
    "    metals = {'#B8':'Copper','#b8':'Copper', '#FF':'Gold', '#C0':'Silver', '#B7':'Brass', '#b7':'Brass', 'red':'FAKE'}\n",
    "    try:\n",
    "        bg_color_index = int(str(coin).find('bgcolor=')) + 9\n",
    "        bg_color = str(coin)[bg_color_index:bg_color_index + 3]\n",
    "        metal = metals[bg_color]\n",
    "    except:\n",
    "        return None\n",
    "    return metal"
   ]
  },
  {
   "attachments": {},
   "cell_type": "markdown",
   "metadata": {},
   "source": [
    "### Create functions to pull coin era (i.e. 'AD' or 'BC') and <i>a</i> year (not <i>every</i> year) in the coin description \n",
    "(if there is a range of years i.e. 117-124 AD, function pulls the year closest to era i.e. '117-124 AD' returns '124', while 'AD 117-124' returns '117')"
   ]
  },
  {
   "cell_type": "code",
   "execution_count": 17,
   "metadata": {},
   "outputs": [],
   "source": [
    "def coin_era(coin):\n",
    "    coin = str(coin)\n",
    "    if 'AD' in coin:\n",
    "        return 'AD'\n",
    "    elif 'BC' in coin:\n",
    "        return 'BC'\n",
    "    else:\n",
    "        return None\n",
    "\n",
    "def coin_year(coin):\n",
    "    coin = str(coin)\n",
    "    try:\n",
    "        index = coin.find(coin_era(coin))\n",
    "    except TypeError:\n",
    "        return None\n",
    "    if coin[index - 2].isnumeric():\n",
    "        if coin[index - 3].isnumeric():\n",
    "            if coin[index - 4].isnumeric():\n",
    "                return coin[index-4:index-1]\n",
    "            else:\n",
    "                return coin[index-3:index-1]\n",
    "        else:\n",
    "            return coin[index-2]\n",
    "    elif coin[index + 3].isnumeric():\n",
    "        if coin[index + 4].isnumeric():\n",
    "            if coin[index + 5].isnumeric():\n",
    "                return coin[index+3:index+6]\n",
    "            else:\n",
    "                return coin[index+3:index+4]\n",
    "        else:\n",
    "            return coin[index+3]"
   ]
  },
  {
   "attachments": {},
   "cell_type": "markdown",
   "metadata": {},
   "source": [
    "### Create functions to pull .jpg and .txt links from coins"
   ]
  },
  {
   "cell_type": "code",
   "execution_count": 18,
   "metadata": {},
   "outputs": [],
   "source": [
    "def coin_jpg(coin):\n",
    "    for item in coin:\n",
    "        item = str(item)\n",
    "        if '.jpg' in item:\n",
    "            start, end = item.find('href=')+6, item.find('.jpg')+4\n",
    "            return item[start:end]"
   ]
  },
  {
   "cell_type": "code",
   "execution_count": 19,
   "metadata": {},
   "outputs": [],
   "source": [
    "def coin_txt(coin):\n",
    "    for item in coin:\n",
    "        item = str(item)\n",
    "        if '.txt' in item:\n",
    "            start, end = item.find('href=')+6, item.find('.txt')+4\n",
    "            return item[start:end]"
   ]
  },
  {
   "attachments": {},
   "cell_type": "markdown",
   "metadata": {},
   "source": [
    "### use code from above functions to create a crude function to pull coin_id from links"
   ]
  },
  {
   "cell_type": "code",
   "execution_count": 20,
   "metadata": {},
   "outputs": [],
   "source": [
    "def coin_id(coin):\n",
    "    coin = str(coin)\n",
    "    if '.jpg' in coin:\n",
    "        start, end = coin.rfind('href=')+6, coin.rfind('.jpg')\n",
    "        return coin[start:end]\n",
    "    elif '.txt' in coin:\n",
    "        start, end = coin.rfind('href=')+6, coin.rfind('.txt')\n",
    "        return coin[start:end]\n",
    "    else:\n",
    "        return None"
   ]
  },
  {
   "attachments": {},
   "cell_type": "markdown",
   "metadata": {},
   "source": [
    "### Create function for coin mass in grams"
   ]
  },
  {
   "cell_type": "code",
   "execution_count": 21,
   "metadata": {},
   "outputs": [],
   "source": [
    "def coin_mass(coin):\n",
    "    coin = str(coin)\n",
    "    # might be able to clean this up by creating a list of possible gram abbreviations and looping through it\n",
    "    if 'g.' in coin:\n",
    "        start = coin.find('g.')\n",
    "        if coin[start-1].isnumeric() or coin[start-2].isnumeric():\n",
    "            grams = 'g.'\n",
    "    elif 'g,' in coin:\n",
    "        start = coin.find('g,')\n",
    "        if coin[start-1].isnumeric() or coin[start-2].isnumeric():\n",
    "            grams = 'g,'\n",
    "    elif 'gm.' in coin:\n",
    "        grams = 'gm.'\n",
    "    elif 'gr.' in coin:\n",
    "        grams = 'gr.'\n",
    "    elif 'grs,' in coin:\n",
    "        grams = 'grs,'\n",
    "    elif 'grs.' in coin:\n",
    "        grams = 'grs.'\n",
    "    else:\n",
    "        return None\n",
    "    try:\n",
    "        start = coin.find(grams)\n",
    "        if coin[start-1].isnumeric():\n",
    "            if coin[start-2] == '.':\n",
    "                if coin[start-4].isnumeric():\n",
    "                    return float(coin[start-4:start])\n",
    "                else:\n",
    "                    return float(coin[start-3:start])\n",
    "        elif coin[start-3] == '.':\n",
    "            if coin[start-5].isnumeric():\n",
    "                return float(coin[start-5:start-1])\n",
    "            else:\n",
    "                return float(coin[start-4:start-1])\n",
    "        else:\n",
    "            if coin[start-6].isnumeric():\n",
    "                return float(coin[start-6:start-1])\n",
    "            else:\n",
    "                return float(coin[start-5:start-1])\n",
    "    except:\n",
    "        return None"
   ]
  },
  {
   "attachments": {},
   "cell_type": "markdown",
   "metadata": {},
   "source": [
    "### Create function for coin size in mm"
   ]
  },
  {
   "cell_type": "code",
   "execution_count": 22,
   "metadata": {},
   "outputs": [],
   "source": [
    "def coin_diameter(coin):\n",
    "    coin = str(coin)\n",
    "    if 'mm' in coin:\n",
    "        start = coin.find('mm')\n",
    "        # if there's no space between value and 'mm'\n",
    "        if coin[start-1].isnumeric():\n",
    "            if coin[start-2].isnumeric():\n",
    "                # if value contains a decimal\n",
    "                if coin[start-3] == '.': \n",
    "                    if coin[start-5:start-3].isnumeric():\n",
    "                        return float(coin[start-5:start])\n",
    "                    else:\n",
    "                        return 'Error1'\n",
    "                else:\n",
    "                    return float(coin[start-2:start])\n",
    "            # if value contains a decimal\n",
    "            elif coin[start-2] == '.':\n",
    "                if coin[start-4:start-2].isnumeric():\n",
    "                    return float(coin[start-4:start])\n",
    "                else:\n",
    "                    return 'Error2'\n",
    "        # if there is a space between value and 'mm'\n",
    "        elif coin[start-1] == ' ' and coin[start-2].isnumeric():\n",
    "            if coin[start-3].isnumeric():\n",
    "                # if value contains a decimal\n",
    "                if coin[start-4] == '.':\n",
    "                    if coin[start-6:start-4].isnumeric():\n",
    "                        return float(coin[start-6:start-1])\n",
    "                    else:\n",
    "                        return 'Error3'\n",
    "                else:\n",
    "                    return float(coin[start-3:start-1])\n",
    "            elif coin[start-3] == '.':\n",
    "                if coin[start-5:start-3].isnumeric():\n",
    "                    return float(coin[start-5:start-1])\n",
    "                else:\n",
    "                    return 'Error4'\n"
   ]
  },
  {
   "cell_type": "markdown",
   "metadata": {},
   "source": [
    "### Check for common inscriptions\n",
    "...such as \"AVG\" (Augustus, title of the emperor), \"IMP\" (Imperator (victorious general), received upon accession), \"CAES\" (Caesar, inherited name of the Julian family (Julius Caesar), used by later emperors to designate heir), \"GERM\" (Germanicus, a title honoring military victories in Germany), \"COS\" (Consul, a title linked to highest office in Senate, usually held by emperor), \"PO\" (Pontifex Maximus, highest priest, the head of state religion), \"TPP\" (Tribunica Potestate, tribune of the people, each renewal indicated by numerals), \"CENS\" (Censor, a public office overseeing taxes, morality, the census and membership in various orders)."
   ]
  },
  {
   "cell_type": "code",
   "execution_count": 23,
   "metadata": {},
   "outputs": [],
   "source": [
    "def coin_inscriptions(coin):\n",
    "    coin = str(coin)\n",
    "    inscriptions_list = ['AVG', 'IMP', 'CAES', 'GERM', 'COS', 'PO', 'CENS', 'TPP', 'TR', 'RESTITVT']\n",
    "    coin_inscriptions = []\n",
    "    for i in inscriptions_list:\n",
    "        if i in coin:\n",
    "            coin_inscriptions.append(i)\n",
    "    if len(coin_inscriptions) > 0:\n",
    "        return coin_inscriptions\n",
    "    else:\n",
    "        return None"
   ]
  },
  {
   "attachments": {},
   "cell_type": "markdown",
   "metadata": {},
   "source": [
    "## Combine individual coin parsing functions into one that returns a Dataframe\n",
    "i.e. coin_df(soup)"
   ]
  },
  {
   "cell_type": "code",
   "execution_count": 24,
   "metadata": {},
   "outputs": [],
   "source": [
    "def coin_df(soup):\n",
    "    title = pull_title(soup)\n",
    "    id, metal, mass, diameter, era, year, inscriptions, jpg, txt = [], [], [], [], [], [], [], [], []\n",
    "    for coin in pull_coins(soup):\n",
    "        id.append(coin_id(coin))\n",
    "        metal.append(coin_metal(coin))\n",
    "        mass.append(coin_mass(coin))\n",
    "        diameter.append(coin_diameter(coin))\n",
    "        era.append(coin_era(coin))\n",
    "        year.append(coin_year(coin))\n",
    "        inscriptions.append(coin_inscriptions(coin))\n",
    "        jpg.append(coin_jpg(coin))\n",
    "        txt.append(coin_txt(coin))\n",
    "    return pd.DataFrame({'title':title, 'id':id, 'metal':metal, 'mass':mass, 'diameter':diameter, \\\n",
    "                         'era':era, 'year':year, 'inscriptions':inscriptions, 'jpg':jpg, 'txt':txt})"
   ]
  },
  {
   "cell_type": "code",
   "execution_count": 25,
   "metadata": {},
   "outputs": [
    {
     "data": {
      "text/html": [
       "<div>\n",
       "<style scoped>\n",
       "    .dataframe tbody tr th:only-of-type {\n",
       "        vertical-align: middle;\n",
       "    }\n",
       "\n",
       "    .dataframe tbody tr th {\n",
       "        vertical-align: top;\n",
       "    }\n",
       "\n",
       "    .dataframe thead th {\n",
       "        text-align: right;\n",
       "    }\n",
       "</style>\n",
       "<table border=\"1\" class=\"dataframe\">\n",
       "  <thead>\n",
       "    <tr style=\"text-align: right;\">\n",
       "      <th></th>\n",
       "      <th>title</th>\n",
       "      <th>id</th>\n",
       "      <th>metal</th>\n",
       "      <th>mass</th>\n",
       "      <th>diameter</th>\n",
       "      <th>era</th>\n",
       "      <th>year</th>\n",
       "      <th>inscriptions</th>\n",
       "      <th>jpg</th>\n",
       "      <th>txt</th>\n",
       "    </tr>\n",
       "  </thead>\n",
       "  <tbody>\n",
       "    <tr>\n",
       "      <th>0</th>\n",
       "      <td>Agrippina II</td>\n",
       "      <td>Cohen_01</td>\n",
       "      <td>Brass</td>\n",
       "      <td>NaN</td>\n",
       "      <td>NaN</td>\n",
       "      <td>AD</td>\n",
       "      <td>5</td>\n",
       "      <td>[AVG, CAES, GERM]</td>\n",
       "      <td>Cohen_01.jpg</td>\n",
       "      <td>Cohen_01.txt</td>\n",
       "    </tr>\n",
       "    <tr>\n",
       "      <th>1</th>\n",
       "      <td>Agrippina II</td>\n",
       "      <td>Cohen_01_countermarked</td>\n",
       "      <td>Brass</td>\n",
       "      <td>14.78</td>\n",
       "      <td>28.0</td>\n",
       "      <td>None</td>\n",
       "      <td>None</td>\n",
       "      <td>[AVG, CAES, GERM]</td>\n",
       "      <td>Cohen_01_countermarked.jpg</td>\n",
       "      <td>Cohen_01_countermarked.txt</td>\n",
       "    </tr>\n",
       "    <tr>\n",
       "      <th>2</th>\n",
       "      <td>Agrippina II</td>\n",
       "      <td>RIC_0075</td>\n",
       "      <td>Silver</td>\n",
       "      <td>NaN</td>\n",
       "      <td>NaN</td>\n",
       "      <td>AD</td>\n",
       "      <td>54</td>\n",
       "      <td>[AVG, CAES, GERM]</td>\n",
       "      <td>RIC_0075.jpg</td>\n",
       "      <td>RIC_0075.txt</td>\n",
       "    </tr>\n",
       "    <tr>\n",
       "      <th>3</th>\n",
       "      <td>Agrippina II</td>\n",
       "      <td>None</td>\n",
       "      <td>Brass</td>\n",
       "      <td>NaN</td>\n",
       "      <td>NaN</td>\n",
       "      <td>None</td>\n",
       "      <td>None</td>\n",
       "      <td>[AVG, CAES, GERM]</td>\n",
       "      <td>None</td>\n",
       "      <td>None</td>\n",
       "    </tr>\n",
       "    <tr>\n",
       "      <th>4</th>\n",
       "      <td>Agrippina II</td>\n",
       "      <td>RIC_0103note</td>\n",
       "      <td>Brass</td>\n",
       "      <td>NaN</td>\n",
       "      <td>NaN</td>\n",
       "      <td>AD</td>\n",
       "      <td>54</td>\n",
       "      <td>[AVG, CAES, GERM]</td>\n",
       "      <td>RIC_0103note.jpg</td>\n",
       "      <td>RIC_0103note.txt</td>\n",
       "    </tr>\n",
       "  </tbody>\n",
       "</table>\n",
       "</div>"
      ],
      "text/plain": [
       "          title                      id   metal   mass  diameter   era  year  \\\n",
       "0  Agrippina II                Cohen_01   Brass    NaN       NaN    AD     5   \n",
       "1  Agrippina II  Cohen_01_countermarked   Brass  14.78      28.0  None  None   \n",
       "2  Agrippina II                RIC_0075  Silver    NaN       NaN    AD    54   \n",
       "3  Agrippina II                    None   Brass    NaN       NaN  None  None   \n",
       "4  Agrippina II            RIC_0103note   Brass    NaN       NaN    AD    54   \n",
       "\n",
       "        inscriptions                         jpg                         txt  \n",
       "0  [AVG, CAES, GERM]                Cohen_01.jpg                Cohen_01.txt  \n",
       "1  [AVG, CAES, GERM]  Cohen_01_countermarked.jpg  Cohen_01_countermarked.txt  \n",
       "2  [AVG, CAES, GERM]                RIC_0075.jpg                RIC_0075.txt  \n",
       "3  [AVG, CAES, GERM]                        None                        None  \n",
       "4  [AVG, CAES, GERM]            RIC_0103note.jpg            RIC_0103note.txt  "
      ]
     },
     "execution_count": 25,
     "metadata": {},
     "output_type": "execute_result"
    }
   ],
   "source": [
    "coin_df(test_soups[2]).head()"
   ]
  },
  {
   "attachments": {},
   "cell_type": "markdown",
   "metadata": {},
   "source": [
    "## Create a function to combine multiple Dataframes"
   ]
  },
  {
   "cell_type": "code",
   "execution_count": 26,
   "metadata": {},
   "outputs": [],
   "source": [
    "def combine_coin_dfs(soups):\n",
    "    dfs = [coin_df(soup) for soup in soups]\n",
    "    return pd.concat(dfs) "
   ]
  },
  {
   "cell_type": "code",
   "execution_count": 27,
   "metadata": {},
   "outputs": [
    {
     "data": {
      "text/plain": [
       "2561"
      ]
     },
     "execution_count": 27,
     "metadata": {},
     "output_type": "execute_result"
    }
   ],
   "source": [
    "len(combine_coin_dfs(test_soups))"
   ]
  },
  {
   "attachments": {},
   "cell_type": "markdown",
   "metadata": {},
   "source": [
    "# Switch to working with full data"
   ]
  },
  {
   "attachments": {},
   "cell_type": "markdown",
   "metadata": {},
   "source": [
    "## Pull html from all source pages\n",
    "(pulling from over 200 pages, which can take a few minutes)"
   ]
  },
  {
   "cell_type": "code",
   "execution_count": 28,
   "metadata": {},
   "outputs": [],
   "source": [
    "pages_raw = [requests.get(linkroots[i] + 'i.html') for i in range(len(linkroots))]"
   ]
  },
  {
   "cell_type": "code",
   "execution_count": 29,
   "metadata": {},
   "outputs": [],
   "source": [
    "all_soups = [BeautifulSoup(pages_raw[i].content, 'lxml') for i in range(len(pages_raw))]"
   ]
  },
  {
   "attachments": {},
   "cell_type": "markdown",
   "metadata": {},
   "source": [
    "## Combine it all into a single Dataframe"
   ]
  },
  {
   "cell_type": "code",
   "execution_count": 30,
   "metadata": {},
   "outputs": [],
   "source": [
    "roman_coins = combine_coin_dfs(all_soups)"
   ]
  },
  {
   "cell_type": "code",
   "execution_count": 35,
   "metadata": {},
   "outputs": [
    {
     "data": {
      "text/html": [
       "<div>\n",
       "<style scoped>\n",
       "    .dataframe tbody tr th:only-of-type {\n",
       "        vertical-align: middle;\n",
       "    }\n",
       "\n",
       "    .dataframe tbody tr th {\n",
       "        vertical-align: top;\n",
       "    }\n",
       "\n",
       "    .dataframe thead th {\n",
       "        text-align: right;\n",
       "    }\n",
       "</style>\n",
       "<table border=\"1\" class=\"dataframe\">\n",
       "  <thead>\n",
       "    <tr style=\"text-align: right;\">\n",
       "      <th></th>\n",
       "      <th>title</th>\n",
       "      <th>id</th>\n",
       "      <th>metal</th>\n",
       "      <th>mass</th>\n",
       "      <th>diameter</th>\n",
       "      <th>era</th>\n",
       "      <th>year</th>\n",
       "      <th>inscriptions</th>\n",
       "      <th>jpg</th>\n",
       "      <th>txt</th>\n",
       "    </tr>\n",
       "  </thead>\n",
       "  <tbody>\n",
       "    <tr>\n",
       "      <th>0</th>\n",
       "      <td>Aelia Ariadne</td>\n",
       "      <td>RIC_0933a</td>\n",
       "      <td>Gold</td>\n",
       "      <td>1.46</td>\n",
       "      <td>14.0</td>\n",
       "      <td>AD</td>\n",
       "      <td>491</td>\n",
       "      <td>[AVG]</td>\n",
       "      <td>RIC_0933a.jpg</td>\n",
       "      <td>RIC_0933a.txt</td>\n",
       "    </tr>\n",
       "    <tr>\n",
       "      <th>1</th>\n",
       "      <td>Aelia Ariadne</td>\n",
       "      <td>RIC_933v</td>\n",
       "      <td>Gold</td>\n",
       "      <td>1.47</td>\n",
       "      <td>15.0</td>\n",
       "      <td>AD</td>\n",
       "      <td>491</td>\n",
       "      <td>[AVG]</td>\n",
       "      <td>RIC_933v.jpg</td>\n",
       "      <td>RIC_933v.txt</td>\n",
       "    </tr>\n",
       "    <tr>\n",
       "      <th>2</th>\n",
       "      <td>Aelia Ariadne</td>\n",
       "      <td>RIC_0933var2</td>\n",
       "      <td>Gold</td>\n",
       "      <td>4.47</td>\n",
       "      <td>NaN</td>\n",
       "      <td>AD</td>\n",
       "      <td>474</td>\n",
       "      <td>[AVG]</td>\n",
       "      <td>RIC_0933var2.jpg</td>\n",
       "      <td>RIC_0933var2.txt</td>\n",
       "    </tr>\n",
       "    <tr>\n",
       "      <th>3</th>\n",
       "      <td>Aelia Ariadne</td>\n",
       "      <td>RIC_0938</td>\n",
       "      <td>Gold</td>\n",
       "      <td>1.47</td>\n",
       "      <td>NaN</td>\n",
       "      <td>AD</td>\n",
       "      <td>474</td>\n",
       "      <td>[AVG]</td>\n",
       "      <td>RIC_0938.jpg</td>\n",
       "      <td>RIC_0938.txt</td>\n",
       "    </tr>\n",
       "    <tr>\n",
       "      <th>0</th>\n",
       "      <td>Aelia Flaccilla</td>\n",
       "      <td>_alexandria_RIC_017</td>\n",
       "      <td>Copper</td>\n",
       "      <td>None</td>\n",
       "      <td>NaN</td>\n",
       "      <td>None</td>\n",
       "      <td>None</td>\n",
       "      <td>[AVG]</td>\n",
       "      <td>_alexandria_RIC_017.jpg</td>\n",
       "      <td>_alexandria_RIC_017.txt</td>\n",
       "    </tr>\n",
       "    <tr>\n",
       "      <th>1</th>\n",
       "      <td>Aelia Flaccilla</td>\n",
       "      <td>_antioch_RIC_054</td>\n",
       "      <td>Copper</td>\n",
       "      <td>None</td>\n",
       "      <td>NaN</td>\n",
       "      <td>None</td>\n",
       "      <td>None</td>\n",
       "      <td>None</td>\n",
       "      <td>_antioch_RIC_054.jpg</td>\n",
       "      <td>_antioch_RIC_054.txt</td>\n",
       "    </tr>\n",
       "    <tr>\n",
       "      <th>2</th>\n",
       "      <td>Aelia Flaccilla</td>\n",
       "      <td>_antioch_RIC_061</td>\n",
       "      <td>Copper</td>\n",
       "      <td>None</td>\n",
       "      <td>NaN</td>\n",
       "      <td>None</td>\n",
       "      <td>None</td>\n",
       "      <td>[AVG]</td>\n",
       "      <td>_antioch_RIC_061.jpg</td>\n",
       "      <td>_antioch_RIC_061.txt</td>\n",
       "    </tr>\n",
       "    <tr>\n",
       "      <th>3</th>\n",
       "      <td>Aelia Flaccilla</td>\n",
       "      <td>_antioch_RIC_061_G</td>\n",
       "      <td>Copper</td>\n",
       "      <td>None</td>\n",
       "      <td>NaN</td>\n",
       "      <td>None</td>\n",
       "      <td>None</td>\n",
       "      <td>[AVG]</td>\n",
       "      <td>_antioch_RIC_061_G.jpg</td>\n",
       "      <td>_antioch_RIC_061_G.txt</td>\n",
       "    </tr>\n",
       "    <tr>\n",
       "      <th>4</th>\n",
       "      <td>Aelia Flaccilla</td>\n",
       "      <td>_antioch_RIC_062,D</td>\n",
       "      <td>Copper</td>\n",
       "      <td>None</td>\n",
       "      <td>NaN</td>\n",
       "      <td>None</td>\n",
       "      <td>None</td>\n",
       "      <td>[AVG]</td>\n",
       "      <td>_antioch_RIC_062,D.jpg</td>\n",
       "      <td>_antioch_RIC_062,D.txt</td>\n",
       "    </tr>\n",
       "    <tr>\n",
       "      <th>5</th>\n",
       "      <td>Aelia Flaccilla</td>\n",
       "      <td>_antioch_RIC_062</td>\n",
       "      <td>Copper</td>\n",
       "      <td>None</td>\n",
       "      <td>22.0</td>\n",
       "      <td>None</td>\n",
       "      <td>None</td>\n",
       "      <td>[AVG]</td>\n",
       "      <td>_antioch_RIC_062.jpg</td>\n",
       "      <td>_antioch_RIC_062.txt</td>\n",
       "    </tr>\n",
       "  </tbody>\n",
       "</table>\n",
       "</div>"
      ],
      "text/plain": [
       "             title                   id   metal  mass diameter   era  year  \\\n",
       "0    Aelia Ariadne            RIC_0933a    Gold  1.46     14.0    AD   491   \n",
       "1    Aelia Ariadne             RIC_933v    Gold  1.47     15.0    AD   491   \n",
       "2    Aelia Ariadne         RIC_0933var2    Gold  4.47      NaN    AD   474   \n",
       "3    Aelia Ariadne             RIC_0938    Gold  1.47      NaN    AD   474   \n",
       "0  Aelia Flaccilla  _alexandria_RIC_017  Copper  None      NaN  None  None   \n",
       "1  Aelia Flaccilla     _antioch_RIC_054  Copper  None      NaN  None  None   \n",
       "2  Aelia Flaccilla     _antioch_RIC_061  Copper  None      NaN  None  None   \n",
       "3  Aelia Flaccilla   _antioch_RIC_061_G  Copper  None      NaN  None  None   \n",
       "4  Aelia Flaccilla   _antioch_RIC_062,D  Copper  None      NaN  None  None   \n",
       "5  Aelia Flaccilla     _antioch_RIC_062  Copper  None     22.0  None  None   \n",
       "\n",
       "  inscriptions                      jpg                      txt  \n",
       "0        [AVG]            RIC_0933a.jpg            RIC_0933a.txt  \n",
       "1        [AVG]             RIC_933v.jpg             RIC_933v.txt  \n",
       "2        [AVG]         RIC_0933var2.jpg         RIC_0933var2.txt  \n",
       "3        [AVG]             RIC_0938.jpg             RIC_0938.txt  \n",
       "0        [AVG]  _alexandria_RIC_017.jpg  _alexandria_RIC_017.txt  \n",
       "1         None     _antioch_RIC_054.jpg     _antioch_RIC_054.txt  \n",
       "2        [AVG]     _antioch_RIC_061.jpg     _antioch_RIC_061.txt  \n",
       "3        [AVG]   _antioch_RIC_061_G.jpg   _antioch_RIC_061_G.txt  \n",
       "4        [AVG]   _antioch_RIC_062,D.jpg   _antioch_RIC_062,D.txt  \n",
       "5        [AVG]     _antioch_RIC_062.jpg     _antioch_RIC_062.txt  "
      ]
     },
     "execution_count": 35,
     "metadata": {},
     "output_type": "execute_result"
    }
   ],
   "source": [
    "roman_coins.head(10)"
   ]
  },
  {
   "attachments": {},
   "cell_type": "markdown",
   "metadata": {},
   "source": [
    "### run code chunk below to save new Dataframe as a csv file"
   ]
  },
  {
   "cell_type": "code",
   "execution_count": 34,
   "metadata": {},
   "outputs": [],
   "source": [
    "roman_coins.to_csv('roman_coins_raw.csv')"
   ]
  },
  {
   "attachments": {},
   "cell_type": "markdown",
   "metadata": {},
   "source": [
    "## Create Dataframe for just titles and subtitles \n",
    "(since subtitles are often too long to fit comfortably in a Dataframe - useful for later joins if subtitles are desired)"
   ]
  },
  {
   "cell_type": "code",
   "execution_count": 13,
   "metadata": {},
   "outputs": [],
   "source": [
    "titles_and_subtitles = \n",
    "    "
   ]
  }
 ],
 "metadata": {
  "kernelspec": {
   "display_name": "Python 3",
   "language": "python",
   "name": "python3"
  },
  "language_info": {
   "codemirror_mode": {
    "name": "ipython",
    "version": 3
   },
   "file_extension": ".py",
   "mimetype": "text/x-python",
   "name": "python",
   "nbconvert_exporter": "python",
   "pygments_lexer": "ipython3",
   "version": "3.9.2"
  },
  "vscode": {
   "interpreter": {
    "hash": "916dbcbb3f70747c44a77c7bcd40155683ae19c65e1c03b4aa3499c5328201f1"
   }
  }
 },
 "nbformat": 4,
 "nbformat_minor": 4
}
